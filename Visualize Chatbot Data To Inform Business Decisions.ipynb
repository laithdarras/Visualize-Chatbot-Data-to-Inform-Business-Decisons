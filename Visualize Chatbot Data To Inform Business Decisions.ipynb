{
 "cells": [
  {
   "cell_type": "code",
   "execution_count": 1,
   "id": "a3243a1d",
   "metadata": {},
   "outputs": [],
   "source": [
    "# python libraries imports\n",
    "import pandas as pd\n",
    "import numpy as np\n",
    "import seaborn as sns\n",
    "import plotly.express as px\n",
    "import string\n",
    "import nltk\n",
    "from pandas import DataFrame\n",
    "from pandas import Series"
   ]
  },
  {
   "cell_type": "code",
   "execution_count": 2,
   "id": "b3daa2d4",
   "metadata": {},
   "outputs": [],
   "source": [
    "# reading the file\n",
    "dataset = pd.read_csv('twcs.csv')"
   ]
  },
  {
   "cell_type": "code",
   "execution_count": 3,
   "id": "6afc8a80",
   "metadata": {},
   "outputs": [
    {
     "data": {
      "text/html": [
       "<div>\n",
       "<style scoped>\n",
       "    .dataframe tbody tr th:only-of-type {\n",
       "        vertical-align: middle;\n",
       "    }\n",
       "\n",
       "    .dataframe tbody tr th {\n",
       "        vertical-align: top;\n",
       "    }\n",
       "\n",
       "    .dataframe thead th {\n",
       "        text-align: right;\n",
       "    }\n",
       "</style>\n",
       "<table border=\"1\" class=\"dataframe\">\n",
       "  <thead>\n",
       "    <tr style=\"text-align: right;\">\n",
       "      <th></th>\n",
       "      <th>tweet_id</th>\n",
       "      <th>author_id</th>\n",
       "      <th>inbound</th>\n",
       "      <th>created_at</th>\n",
       "      <th>text</th>\n",
       "      <th>response_tweet_id</th>\n",
       "      <th>in_response_to_tweet_id</th>\n",
       "    </tr>\n",
       "  </thead>\n",
       "  <tbody>\n",
       "    <tr>\n",
       "      <th>0</th>\n",
       "      <td>1</td>\n",
       "      <td>sprintcare</td>\n",
       "      <td>False</td>\n",
       "      <td>Tue Oct 31 22:10:47 +0000 2017</td>\n",
       "      <td>@115712 I understand. I would like to assist y...</td>\n",
       "      <td>2</td>\n",
       "      <td>3.0</td>\n",
       "    </tr>\n",
       "    <tr>\n",
       "      <th>1</th>\n",
       "      <td>2</td>\n",
       "      <td>115712</td>\n",
       "      <td>True</td>\n",
       "      <td>Tue Oct 31 22:11:45 +0000 2017</td>\n",
       "      <td>@sprintcare and how do you propose we do that</td>\n",
       "      <td>NaN</td>\n",
       "      <td>1.0</td>\n",
       "    </tr>\n",
       "    <tr>\n",
       "      <th>2</th>\n",
       "      <td>3</td>\n",
       "      <td>115712</td>\n",
       "      <td>True</td>\n",
       "      <td>Tue Oct 31 22:08:27 +0000 2017</td>\n",
       "      <td>@sprintcare I have sent several private messag...</td>\n",
       "      <td>1</td>\n",
       "      <td>4.0</td>\n",
       "    </tr>\n",
       "    <tr>\n",
       "      <th>3</th>\n",
       "      <td>4</td>\n",
       "      <td>sprintcare</td>\n",
       "      <td>False</td>\n",
       "      <td>Tue Oct 31 21:54:49 +0000 2017</td>\n",
       "      <td>@115712 Please send us a Private Message so th...</td>\n",
       "      <td>3</td>\n",
       "      <td>5.0</td>\n",
       "    </tr>\n",
       "    <tr>\n",
       "      <th>4</th>\n",
       "      <td>5</td>\n",
       "      <td>115712</td>\n",
       "      <td>True</td>\n",
       "      <td>Tue Oct 31 21:49:35 +0000 2017</td>\n",
       "      <td>@sprintcare I did.</td>\n",
       "      <td>4</td>\n",
       "      <td>6.0</td>\n",
       "    </tr>\n",
       "  </tbody>\n",
       "</table>\n",
       "</div>"
      ],
      "text/plain": [
       "   tweet_id   author_id  inbound                      created_at  \\\n",
       "0         1  sprintcare    False  Tue Oct 31 22:10:47 +0000 2017   \n",
       "1         2      115712     True  Tue Oct 31 22:11:45 +0000 2017   \n",
       "2         3      115712     True  Tue Oct 31 22:08:27 +0000 2017   \n",
       "3         4  sprintcare    False  Tue Oct 31 21:54:49 +0000 2017   \n",
       "4         5      115712     True  Tue Oct 31 21:49:35 +0000 2017   \n",
       "\n",
       "                                                text response_tweet_id  \\\n",
       "0  @115712 I understand. I would like to assist y...                 2   \n",
       "1      @sprintcare and how do you propose we do that               NaN   \n",
       "2  @sprintcare I have sent several private messag...                 1   \n",
       "3  @115712 Please send us a Private Message so th...                 3   \n",
       "4                                 @sprintcare I did.                 4   \n",
       "\n",
       "   in_response_to_tweet_id  \n",
       "0                      3.0  \n",
       "1                      1.0  \n",
       "2                      4.0  \n",
       "3                      5.0  \n",
       "4                      6.0  "
      ]
     },
     "execution_count": 3,
     "metadata": {},
     "output_type": "execute_result"
    }
   ],
   "source": [
    "# observe the dataset to observe how many rows you input a number in the parenthesis\n",
    "dataset.head()"
   ]
  },
  {
   "cell_type": "code",
   "execution_count": 4,
   "id": "6cf0cc62",
   "metadata": {},
   "outputs": [
    {
     "data": {
      "text/html": [
       "<div>\n",
       "<style scoped>\n",
       "    .dataframe tbody tr th:only-of-type {\n",
       "        vertical-align: middle;\n",
       "    }\n",
       "\n",
       "    .dataframe tbody tr th {\n",
       "        vertical-align: top;\n",
       "    }\n",
       "\n",
       "    .dataframe thead th {\n",
       "        text-align: right;\n",
       "    }\n",
       "</style>\n",
       "<table border=\"1\" class=\"dataframe\">\n",
       "  <thead>\n",
       "    <tr style=\"text-align: right;\">\n",
       "      <th></th>\n",
       "      <th>tweet_id</th>\n",
       "      <th>author_id</th>\n",
       "      <th>inbound</th>\n",
       "      <th>created_at</th>\n",
       "      <th>text</th>\n",
       "      <th>response_tweet_id</th>\n",
       "      <th>in_response_to_tweet_id</th>\n",
       "    </tr>\n",
       "  </thead>\n",
       "  <tbody>\n",
       "    <tr>\n",
       "      <th>2811769</th>\n",
       "      <td>2987947</td>\n",
       "      <td>sprintcare</td>\n",
       "      <td>False</td>\n",
       "      <td>Wed Nov 22 08:43:51 +0000 2017</td>\n",
       "      <td>@823869 Hey, we'd be happy to look into this f...</td>\n",
       "      <td>NaN</td>\n",
       "      <td>2987948.0</td>\n",
       "    </tr>\n",
       "    <tr>\n",
       "      <th>2811770</th>\n",
       "      <td>2987948</td>\n",
       "      <td>823869</td>\n",
       "      <td>True</td>\n",
       "      <td>Wed Nov 22 08:35:16 +0000 2017</td>\n",
       "      <td>@115714 wtf!? I’ve been having really shitty s...</td>\n",
       "      <td>2987947</td>\n",
       "      <td>NaN</td>\n",
       "    </tr>\n",
       "    <tr>\n",
       "      <th>2811771</th>\n",
       "      <td>2812240</td>\n",
       "      <td>121673</td>\n",
       "      <td>True</td>\n",
       "      <td>Thu Nov 23 04:13:07 +0000 2017</td>\n",
       "      <td>@143549 @sprintcare You have to go to https://...</td>\n",
       "      <td>NaN</td>\n",
       "      <td>2812239.0</td>\n",
       "    </tr>\n",
       "    <tr>\n",
       "      <th>2811772</th>\n",
       "      <td>2987949</td>\n",
       "      <td>AldiUK</td>\n",
       "      <td>False</td>\n",
       "      <td>Wed Nov 22 08:31:24 +0000 2017</td>\n",
       "      <td>@823870 Sounds delicious, Sarah! 😋 https://t.c...</td>\n",
       "      <td>NaN</td>\n",
       "      <td>2987950.0</td>\n",
       "    </tr>\n",
       "    <tr>\n",
       "      <th>2811773</th>\n",
       "      <td>2987950</td>\n",
       "      <td>823870</td>\n",
       "      <td>True</td>\n",
       "      <td>Tue Nov 21 22:01:04 +0000 2017</td>\n",
       "      <td>@AldiUK  warm sloe gin mince pies with ice cre...</td>\n",
       "      <td>2987951,2987949</td>\n",
       "      <td>NaN</td>\n",
       "    </tr>\n",
       "  </tbody>\n",
       "</table>\n",
       "</div>"
      ],
      "text/plain": [
       "         tweet_id   author_id  inbound                      created_at  \\\n",
       "2811769   2987947  sprintcare    False  Wed Nov 22 08:43:51 +0000 2017   \n",
       "2811770   2987948      823869     True  Wed Nov 22 08:35:16 +0000 2017   \n",
       "2811771   2812240      121673     True  Thu Nov 23 04:13:07 +0000 2017   \n",
       "2811772   2987949      AldiUK    False  Wed Nov 22 08:31:24 +0000 2017   \n",
       "2811773   2987950      823870     True  Tue Nov 21 22:01:04 +0000 2017   \n",
       "\n",
       "                                                      text response_tweet_id  \\\n",
       "2811769  @823869 Hey, we'd be happy to look into this f...               NaN   \n",
       "2811770  @115714 wtf!? I’ve been having really shitty s...           2987947   \n",
       "2811771  @143549 @sprintcare You have to go to https://...               NaN   \n",
       "2811772  @823870 Sounds delicious, Sarah! 😋 https://t.c...               NaN   \n",
       "2811773  @AldiUK  warm sloe gin mince pies with ice cre...   2987951,2987949   \n",
       "\n",
       "         in_response_to_tweet_id  \n",
       "2811769                2987948.0  \n",
       "2811770                      NaN  \n",
       "2811771                2812239.0  \n",
       "2811772                2987950.0  \n",
       "2811773                      NaN  "
      ]
     },
     "execution_count": 4,
     "metadata": {},
     "output_type": "execute_result"
    }
   ],
   "source": [
    "# same logic as above besides the fact that this goes from bottom-up rather than top-down\n",
    "dataset.tail()"
   ]
  },
  {
   "cell_type": "code",
   "execution_count": 5,
   "id": "fcea1039",
   "metadata": {},
   "outputs": [
    {
     "name": "stdout",
     "output_type": "stream",
     "text": [
      "<class 'pandas.core.frame.DataFrame'>\n",
      "RangeIndex: 2811774 entries, 0 to 2811773\n",
      "Data columns (total 7 columns):\n",
      " #   Column                   Dtype  \n",
      "---  ------                   -----  \n",
      " 0   tweet_id                 int64  \n",
      " 1   author_id                object \n",
      " 2   inbound                  bool   \n",
      " 3   created_at               object \n",
      " 4   text                     object \n",
      " 5   response_tweet_id        object \n",
      " 6   in_response_to_tweet_id  float64\n",
      "dtypes: bool(1), float64(1), int64(1), object(4)\n",
      "memory usage: 131.4+ MB\n"
     ]
    }
   ],
   "source": [
    "# data types of variables\n",
    "dataset.info()"
   ]
  },
  {
   "cell_type": "code",
   "execution_count": 6,
   "id": "b08c2374",
   "metadata": {},
   "outputs": [
    {
     "data": {
      "text/html": [
       "<div>\n",
       "<style scoped>\n",
       "    .dataframe tbody tr th:only-of-type {\n",
       "        vertical-align: middle;\n",
       "    }\n",
       "\n",
       "    .dataframe tbody tr th {\n",
       "        vertical-align: top;\n",
       "    }\n",
       "\n",
       "    .dataframe thead th {\n",
       "        text-align: right;\n",
       "    }\n",
       "</style>\n",
       "<table border=\"1\" class=\"dataframe\">\n",
       "  <thead>\n",
       "    <tr style=\"text-align: right;\">\n",
       "      <th></th>\n",
       "      <th>tweet_id</th>\n",
       "      <th>in_response_to_tweet_id</th>\n",
       "    </tr>\n",
       "  </thead>\n",
       "  <tbody>\n",
       "    <tr>\n",
       "      <th>count</th>\n",
       "      <td>2.811774e+06</td>\n",
       "      <td>2.017439e+06</td>\n",
       "    </tr>\n",
       "    <tr>\n",
       "      <th>mean</th>\n",
       "      <td>1.504565e+06</td>\n",
       "      <td>1.463141e+06</td>\n",
       "    </tr>\n",
       "    <tr>\n",
       "      <th>std</th>\n",
       "      <td>8.616450e+05</td>\n",
       "      <td>8.665730e+05</td>\n",
       "    </tr>\n",
       "    <tr>\n",
       "      <th>min</th>\n",
       "      <td>1.000000e+00</td>\n",
       "      <td>1.000000e+00</td>\n",
       "    </tr>\n",
       "    <tr>\n",
       "      <th>25%</th>\n",
       "      <td>7.601652e+05</td>\n",
       "      <td>7.155105e+05</td>\n",
       "    </tr>\n",
       "    <tr>\n",
       "      <th>50%</th>\n",
       "      <td>1.507772e+06</td>\n",
       "      <td>1.439805e+06</td>\n",
       "    </tr>\n",
       "    <tr>\n",
       "      <th>75%</th>\n",
       "      <td>2.253296e+06</td>\n",
       "      <td>2.220646e+06</td>\n",
       "    </tr>\n",
       "    <tr>\n",
       "      <th>max</th>\n",
       "      <td>2.987950e+06</td>\n",
       "      <td>2.987950e+06</td>\n",
       "    </tr>\n",
       "  </tbody>\n",
       "</table>\n",
       "</div>"
      ],
      "text/plain": [
       "           tweet_id  in_response_to_tweet_id\n",
       "count  2.811774e+06             2.017439e+06\n",
       "mean   1.504565e+06             1.463141e+06\n",
       "std    8.616450e+05             8.665730e+05\n",
       "min    1.000000e+00             1.000000e+00\n",
       "25%    7.601652e+05             7.155105e+05\n",
       "50%    1.507772e+06             1.439805e+06\n",
       "75%    2.253296e+06             2.220646e+06\n",
       "max    2.987950e+06             2.987950e+06"
      ]
     },
     "execution_count": 6,
     "metadata": {},
     "output_type": "execute_result"
    }
   ],
   "source": [
    "# statistical characteristic of each numerical feature\n",
    "dataset.describe()"
   ]
  },
  {
   "cell_type": "code",
   "execution_count": 7,
   "id": "c2861c7b",
   "metadata": {},
   "outputs": [
    {
     "data": {
      "text/plain": [
       "AmazonHelp      169840\n",
       "AppleSupport    106860\n",
       "Uber_Support     56270\n",
       "SpotifyCares     43265\n",
       "Delta            42253\n",
       "                 ...  \n",
       "456282               1\n",
       "456281               1\n",
       "456280               1\n",
       "456276               1\n",
       "823870               1\n",
       "Name: author_id, Length: 702777, dtype: int64"
      ]
     },
     "execution_count": 7,
     "metadata": {},
     "output_type": "execute_result"
    }
   ],
   "source": [
    "# top twitter users by tweets\n",
    "dataset['author_id'].value_counts()"
   ]
  },
  {
   "cell_type": "code",
   "execution_count": 8,
   "id": "3aad0b03",
   "metadata": {},
   "outputs": [
    {
     "name": "stdout",
     "output_type": "stream",
     "text": [
      "Number of missing values in each column\n"
     ]
    },
    {
     "data": {
      "text/plain": [
       "tweet_id                         0\n",
       "author_id                        0\n",
       "inbound                          0\n",
       "created_at                       0\n",
       "text                             0\n",
       "response_tweet_id          1040629\n",
       "in_response_to_tweet_id     794335\n",
       "dtype: int64"
      ]
     },
     "execution_count": 8,
     "metadata": {},
     "output_type": "execute_result"
    }
   ],
   "source": [
    "print(\"Number of missing values in each column\")\n",
    "dataset.isnull().sum()"
   ]
  },
  {
   "cell_type": "code",
   "execution_count": 9,
   "id": "a3b0fb56",
   "metadata": {},
   "outputs": [
    {
     "data": {
      "text/plain": [
       "(2811774, 7)"
      ]
     },
     "execution_count": 9,
     "metadata": {},
     "output_type": "execute_result"
    }
   ],
   "source": [
    "# shape of dataset\n",
    "dataset.shape"
   ]
  },
  {
   "cell_type": "code",
   "execution_count": 10,
   "id": "ee5a7128",
   "metadata": {},
   "outputs": [
    {
     "data": {
      "text/plain": [
       "True     1537843\n",
       "False    1273931\n",
       "Name: inbound, dtype: int64"
      ]
     },
     "execution_count": 10,
     "metadata": {},
     "output_type": "execute_result"
    }
   ],
   "source": [
    "# inbound and outbound tweets\n",
    "dataset['inbound'].value_counts()"
   ]
  },
  {
   "cell_type": "code",
   "execution_count": 11,
   "id": "61f3c877",
   "metadata": {},
   "outputs": [
    {
     "data": {
      "text/plain": [
       "625011.0     844\n",
       "776192.0     560\n",
       "37012.0      297\n",
       "5965.0       185\n",
       "87814.0      174\n",
       "            ... \n",
       "1058186.0      1\n",
       "1058185.0      1\n",
       "1058183.0      1\n",
       "1058181.0      1\n",
       "2987950.0      1\n",
       "Name: in_response_to_tweet_id, Length: 1774822, dtype: int64"
      ]
     },
     "execution_count": 11,
     "metadata": {},
     "output_type": "execute_result"
    }
   ],
   "source": [
    "# top authors by response\n",
    "dataset['in_response_to_tweet_id'].value_counts()"
   ]
  },
  {
   "cell_type": "code",
   "execution_count": 12,
   "id": "acee329e",
   "metadata": {},
   "outputs": [
    {
     "data": {
      "text/plain": [
       "AmazonHelp         169840\n",
       "AppleSupport       106860\n",
       "Uber_Support        56270\n",
       "SpotifyCares        43265\n",
       "Delta               42253\n",
       "Tesco               38573\n",
       "AmericanAir         36764\n",
       "TMobileHelp         34317\n",
       "comcastcares        33031\n",
       "British_Airways     29361\n",
       "Name: author_id, dtype: int64"
      ]
     },
     "execution_count": 12,
     "metadata": {},
     "output_type": "execute_result"
    }
   ],
   "source": [
    "# top 10 companies by tweets\n",
    "top_users = dataset['author_id'].value_counts()\n",
    "top_users.head(10)"
   ]
  },
  {
   "cell_type": "code",
   "execution_count": 14,
   "id": "a90d7087",
   "metadata": {},
   "outputs": [],
   "source": [
    "# distinguishing authors and dates\n",
    "author_dates = pd.DataFrame({'author_id': dataset['author_id'], \n",
    "                  'created_at':dataset['created_at']})"
   ]
  },
  {
   "cell_type": "code",
   "execution_count": 16,
   "id": "5d103944",
   "metadata": {},
   "outputs": [],
   "source": [
    "import matplotlib \n",
    "from matplotlib import pyplot as plt"
   ]
  },
  {
   "cell_type": "code",
   "execution_count": 19,
   "id": "a2a2cfe2",
   "metadata": {
    "scrolled": true
   },
   "outputs": [
    {
     "data": {
      "text/html": [
       "<div>\n",
       "<style scoped>\n",
       "    .dataframe tbody tr th:only-of-type {\n",
       "        vertical-align: middle;\n",
       "    }\n",
       "\n",
       "    .dataframe tbody tr th {\n",
       "        vertical-align: top;\n",
       "    }\n",
       "\n",
       "    .dataframe thead th {\n",
       "        text-align: right;\n",
       "    }\n",
       "</style>\n",
       "<table border=\"1\" class=\"dataframe\">\n",
       "  <thead>\n",
       "    <tr style=\"text-align: right;\">\n",
       "      <th></th>\n",
       "      <th>Company</th>\n",
       "      <th>Amount Registered</th>\n",
       "    </tr>\n",
       "  </thead>\n",
       "  <tbody>\n",
       "    <tr>\n",
       "      <th>0</th>\n",
       "      <td>AmazonHelp</td>\n",
       "      <td>169840</td>\n",
       "    </tr>\n",
       "    <tr>\n",
       "      <th>1</th>\n",
       "      <td>AppleSupport</td>\n",
       "      <td>106860</td>\n",
       "    </tr>\n",
       "    <tr>\n",
       "      <th>2</th>\n",
       "      <td>Uber_Support</td>\n",
       "      <td>56270</td>\n",
       "    </tr>\n",
       "    <tr>\n",
       "      <th>3</th>\n",
       "      <td>SpotifyCares</td>\n",
       "      <td>43265</td>\n",
       "    </tr>\n",
       "    <tr>\n",
       "      <th>4</th>\n",
       "      <td>Delta</td>\n",
       "      <td>42253</td>\n",
       "    </tr>\n",
       "    <tr>\n",
       "      <th>5</th>\n",
       "      <td>Tesco</td>\n",
       "      <td>38573</td>\n",
       "    </tr>\n",
       "    <tr>\n",
       "      <th>6</th>\n",
       "      <td>AmericanAir</td>\n",
       "      <td>36764</td>\n",
       "    </tr>\n",
       "    <tr>\n",
       "      <th>7</th>\n",
       "      <td>TMobileHelp</td>\n",
       "      <td>34317</td>\n",
       "    </tr>\n",
       "    <tr>\n",
       "      <th>8</th>\n",
       "      <td>comcastcares</td>\n",
       "      <td>33031</td>\n",
       "    </tr>\n",
       "    <tr>\n",
       "      <th>9</th>\n",
       "      <td>British_Airways</td>\n",
       "      <td>29361</td>\n",
       "    </tr>\n",
       "  </tbody>\n",
       "</table>\n",
       "</div>"
      ],
      "text/plain": [
       "           Company  Amount Registered\n",
       "0       AmazonHelp             169840\n",
       "1     AppleSupport             106860\n",
       "2     Uber_Support              56270\n",
       "3     SpotifyCares              43265\n",
       "4            Delta              42253\n",
       "5            Tesco              38573\n",
       "6      AmericanAir              36764\n",
       "7      TMobileHelp              34317\n",
       "8     comcastcares              33031\n",
       "9  British_Airways              29361"
      ]
     },
     "execution_count": 19,
     "metadata": {},
     "output_type": "execute_result"
    }
   ],
   "source": [
    "# chart view of top 10 \n",
    "\n",
    "amzn = author_dates['author_id'].str.contains(pat='AmazonHelp').value_counts(sort=True)[True]\n",
    "aapl = author_dates['author_id'].str.contains(pat='AppleSupport').value_counts(sort=True)[True]\n",
    "uber = author_dates['author_id'].str.contains(pat='Uber_Support').value_counts(sort=True)[True]\n",
    "spot = author_dates['author_id'].str.contains(pat='SpotifyCares').value_counts(sort=True)[True]\n",
    "dal = author_dates['author_id'].str.contains(pat='Delta').value_counts(sort=True)[True]\n",
    "tsco = author_dates['author_id'].str.contains(pat='Tesco').value_counts(sort=True)[True]\n",
    "aal = author_dates['author_id'].str.contains(pat='AmericanAir').value_counts(sort=True)[True]\n",
    "tmus = author_dates['author_id'].str.contains(pat='TMobileHelp').value_counts(sort=True)[True]\n",
    "cmcsa = author_dates['author_id'].str.contains(pat='comcastcares').value_counts(sort=True)[True]\n",
    "bay = author_dates['author_id'].str.contains(pat='British_Airways').value_counts(sort=True)[True]\n",
    "\n",
    "top_ten = pd.DataFrame([('AmazonHelp', amzn),(\"AppleSupport\", aapl),\n",
    "('Uber_Support', uber),('SpotifyCares', spot),('Delta', dal),(\"Tesco\", tsco),(\"AmericanAir\", aal),(\"TMobileHelp\", tmus),(\"comcastcares\", cmcsa),(\"British_Airways\", bay)],\n",
    "columns=('Company', 'Amount Registered'))\n",
    "top_ten"
   ]
  },
  {
   "cell_type": "code",
   "execution_count": 23,
   "id": "6c1dcb8f",
   "metadata": {},
   "outputs": [
    {
     "data": {
      "text/html": [
       "<div>\n",
       "<style scoped>\n",
       "    .dataframe tbody tr th:only-of-type {\n",
       "        vertical-align: middle;\n",
       "    }\n",
       "\n",
       "    .dataframe tbody tr th {\n",
       "        vertical-align: top;\n",
       "    }\n",
       "\n",
       "    .dataframe thead th {\n",
       "        text-align: right;\n",
       "    }\n",
       "</style>\n",
       "<table border=\"1\" class=\"dataframe\">\n",
       "  <thead>\n",
       "    <tr style=\"text-align: right;\">\n",
       "      <th></th>\n",
       "      <th>Tweets</th>\n",
       "    </tr>\n",
       "  </thead>\n",
       "  <tbody>\n",
       "    <tr>\n",
       "      <th>Fri</th>\n",
       "      <td>453028</td>\n",
       "    </tr>\n",
       "    <tr>\n",
       "      <th>Wed</th>\n",
       "      <td>445838</td>\n",
       "    </tr>\n",
       "    <tr>\n",
       "      <th>Thu</th>\n",
       "      <td>440361</td>\n",
       "    </tr>\n",
       "    <tr>\n",
       "      <th>Tue</th>\n",
       "      <td>423052</td>\n",
       "    </tr>\n",
       "    <tr>\n",
       "      <th>Mon</th>\n",
       "      <td>387847</td>\n",
       "    </tr>\n",
       "    <tr>\n",
       "      <th>Sat</th>\n",
       "      <td>332606</td>\n",
       "    </tr>\n",
       "    <tr>\n",
       "      <th>Sun</th>\n",
       "      <td>329042</td>\n",
       "    </tr>\n",
       "  </tbody>\n",
       "</table>\n",
       "</div>"
      ],
      "text/plain": [
       "     Tweets\n",
       "Fri  453028\n",
       "Wed  445838\n",
       "Thu  440361\n",
       "Tue  423052\n",
       "Mon  387847\n",
       "Sat  332606\n",
       "Sun  329042"
      ]
     },
     "execution_count": 23,
     "metadata": {},
     "output_type": "execute_result"
    }
   ],
   "source": [
    "# dataframe with tweets associated with days\n",
    "author_dates['Day of the Week'] = author_dates['created_at'].str[:3]\n",
    "general_inital_DOW = pd.DataFrame({'Tweets': author_dates['Day of the Week'].value_counts()})\n",
    "general_inital_DOW"
   ]
  },
  {
   "cell_type": "code",
   "execution_count": 24,
   "id": "6f11b53e",
   "metadata": {},
   "outputs": [
    {
     "data": {
      "text/html": [
       "<div>\n",
       "<style scoped>\n",
       "    .dataframe tbody tr th:only-of-type {\n",
       "        vertical-align: middle;\n",
       "    }\n",
       "\n",
       "    .dataframe tbody tr th {\n",
       "        vertical-align: top;\n",
       "    }\n",
       "\n",
       "    .dataframe thead th {\n",
       "        text-align: right;\n",
       "    }\n",
       "</style>\n",
       "<table border=\"1\" class=\"dataframe\">\n",
       "  <thead>\n",
       "    <tr style=\"text-align: right;\">\n",
       "      <th></th>\n",
       "      <th>Tweets</th>\n",
       "    </tr>\n",
       "  </thead>\n",
       "  <tbody>\n",
       "    <tr>\n",
       "      <th>Mon</th>\n",
       "      <td>387847</td>\n",
       "    </tr>\n",
       "    <tr>\n",
       "      <th>Tue</th>\n",
       "      <td>423052</td>\n",
       "    </tr>\n",
       "    <tr>\n",
       "      <th>Wed</th>\n",
       "      <td>445838</td>\n",
       "    </tr>\n",
       "    <tr>\n",
       "      <th>Thu</th>\n",
       "      <td>440361</td>\n",
       "    </tr>\n",
       "    <tr>\n",
       "      <th>Fri</th>\n",
       "      <td>453028</td>\n",
       "    </tr>\n",
       "    <tr>\n",
       "      <th>Sat</th>\n",
       "      <td>332606</td>\n",
       "    </tr>\n",
       "    <tr>\n",
       "      <th>Sun</th>\n",
       "      <td>329042</td>\n",
       "    </tr>\n",
       "  </tbody>\n",
       "</table>\n",
       "</div>"
      ],
      "text/plain": [
       "     Tweets\n",
       "Mon  387847\n",
       "Tue  423052\n",
       "Wed  445838\n",
       "Thu  440361\n",
       "Fri  453028\n",
       "Sat  332606\n",
       "Sun  329042"
      ]
     },
     "execution_count": 24,
     "metadata": {},
     "output_type": "execute_result"
    }
   ],
   "source": [
    "# reorder days\n",
    "general_inital_DOW = general_inital_DOW.reindex(['Mon','Tue','Wed','Thu','Fri','Sat','Sun'])\n",
    "general_inital_DOW"
   ]
  },
  {
   "cell_type": "code",
   "execution_count": 25,
   "id": "087dac25",
   "metadata": {},
   "outputs": [
    {
     "data": {
      "text/html": [
       "<div>\n",
       "<style scoped>\n",
       "    .dataframe tbody tr th:only-of-type {\n",
       "        vertical-align: middle;\n",
       "    }\n",
       "\n",
       "    .dataframe tbody tr th {\n",
       "        vertical-align: top;\n",
       "    }\n",
       "\n",
       "    .dataframe thead th {\n",
       "        text-align: right;\n",
       "    }\n",
       "</style>\n",
       "<table border=\"1\" class=\"dataframe\">\n",
       "  <thead>\n",
       "    <tr style=\"text-align: right;\">\n",
       "      <th></th>\n",
       "      <th>Day</th>\n",
       "      <th>Tweets</th>\n",
       "    </tr>\n",
       "  </thead>\n",
       "  <tbody>\n",
       "    <tr>\n",
       "      <th>0</th>\n",
       "      <td>Mon</td>\n",
       "      <td>387847</td>\n",
       "    </tr>\n",
       "    <tr>\n",
       "      <th>1</th>\n",
       "      <td>Tue</td>\n",
       "      <td>423052</td>\n",
       "    </tr>\n",
       "    <tr>\n",
       "      <th>2</th>\n",
       "      <td>Wed</td>\n",
       "      <td>445838</td>\n",
       "    </tr>\n",
       "    <tr>\n",
       "      <th>3</th>\n",
       "      <td>Thu</td>\n",
       "      <td>440361</td>\n",
       "    </tr>\n",
       "    <tr>\n",
       "      <th>4</th>\n",
       "      <td>Fri</td>\n",
       "      <td>453028</td>\n",
       "    </tr>\n",
       "    <tr>\n",
       "      <th>5</th>\n",
       "      <td>Sat</td>\n",
       "      <td>332606</td>\n",
       "    </tr>\n",
       "    <tr>\n",
       "      <th>6</th>\n",
       "      <td>Sun</td>\n",
       "      <td>329042</td>\n",
       "    </tr>\n",
       "  </tbody>\n",
       "</table>\n",
       "</div>"
      ],
      "text/plain": [
       "   Day  Tweets\n",
       "0  Mon  387847\n",
       "1  Tue  423052\n",
       "2  Wed  445838\n",
       "3  Thu  440361\n",
       "4  Fri  453028\n",
       "5  Sat  332606\n",
       "6  Sun  329042"
      ]
     },
     "execution_count": 25,
     "metadata": {},
     "output_type": "execute_result"
    }
   ],
   "source": [
    "# make variable and not indices\n",
    "general_final_DOW = general_inital_DOW.reset_index(level=0)\n",
    "general_final_DOW = general_final_DOW.rename(columns={'index':'Day'})\n",
    "general_final_DOW"
   ]
  },
  {
   "cell_type": "code",
   "execution_count": 26,
   "id": "c50645d2",
   "metadata": {},
   "outputs": [
    {
     "data": {
      "text/plain": [
       "<AxesSubplot:title={'center':'All Users Tweets'}, xlabel='Day'>"
      ]
     },
     "execution_count": 26,
     "metadata": {},
     "output_type": "execute_result"
    },
    {
     "data": {
      "image/png": "[encoded data removed]",
      "text/plain": [
       "<Figure size 432x288 with 1 Axes>"
      ]
     },
     "metadata": {
      "needs_background": "light"
     },
     "output_type": "display_data"
    }
   ],
   "source": [
    "# all users tweets\n",
    "general_final_DOW.plot.bar(title='All Users Tweets', color='#D8E6AD',x='Day', y='Tweets')"
   ]
  },
  {
   "cell_type": "code",
   "execution_count": 27,
   "id": "62c56d62",
   "metadata": {},
   "outputs": [
    {
     "name": "stderr",
     "output_type": "stream",
     "text": [
      "C:\\Users\\laith\\AppData\\Local\\Temp\\ipykernel_10576\\2707724927.py:3: SettingWithCopyWarning: \n",
      "A value is trying to be set on a copy of a slice from a DataFrame.\n",
      "Try using .loc[row_indexer,col_indexer] = value instead\n",
      "\n",
      "See the caveats in the documentation: https://pandas.pydata.org/pandas-docs/stable/user_guide/indexing.html#returning-a-view-versus-a-copy\n",
      "  amazon['Day of the Wk'] = amazon['created_at'].str[:3]\n"
     ]
    },
    {
     "data": {
      "text/html": [
       "<div>\n",
       "<style scoped>\n",
       "    .dataframe tbody tr th:only-of-type {\n",
       "        vertical-align: middle;\n",
       "    }\n",
       "\n",
       "    .dataframe tbody tr th {\n",
       "        vertical-align: top;\n",
       "    }\n",
       "\n",
       "    .dataframe thead th {\n",
       "        text-align: right;\n",
       "    }\n",
       "</style>\n",
       "<table border=\"1\" class=\"dataframe\">\n",
       "  <thead>\n",
       "    <tr style=\"text-align: right;\">\n",
       "      <th></th>\n",
       "      <th>Tweets</th>\n",
       "    </tr>\n",
       "  </thead>\n",
       "  <tbody>\n",
       "    <tr>\n",
       "      <th>Mon</th>\n",
       "      <td>21935</td>\n",
       "    </tr>\n",
       "    <tr>\n",
       "      <th>Tue</th>\n",
       "      <td>25428</td>\n",
       "    </tr>\n",
       "    <tr>\n",
       "      <th>Wed</th>\n",
       "      <td>26858</td>\n",
       "    </tr>\n",
       "    <tr>\n",
       "      <th>Thu</th>\n",
       "      <td>26504</td>\n",
       "    </tr>\n",
       "    <tr>\n",
       "      <th>Fri</th>\n",
       "      <td>27612</td>\n",
       "    </tr>\n",
       "    <tr>\n",
       "      <th>Sat</th>\n",
       "      <td>21822</td>\n",
       "    </tr>\n",
       "    <tr>\n",
       "      <th>Sun</th>\n",
       "      <td>19681</td>\n",
       "    </tr>\n",
       "  </tbody>\n",
       "</table>\n",
       "</div>"
      ],
      "text/plain": [
       "     Tweets\n",
       "Mon   21935\n",
       "Tue   25428\n",
       "Wed   26858\n",
       "Thu   26504\n",
       "Fri   27612\n",
       "Sat   21822\n",
       "Sun   19681"
      ]
     },
     "execution_count": 27,
     "metadata": {},
     "output_type": "execute_result"
    }
   ],
   "source": [
    "# New dataframe for Amazon\n",
    "amazon = author_dates[author_dates['author_id'].str.contains(pat='AmazonHelp')]\n",
    "amazon['Day of the Wk'] = amazon['created_at'].str[:3]\n",
    "amzn_initial_DOW = pd.DataFrame({'Tweets':amazon['Day of the Week'].value_counts()})\n",
    "amzn_initial_DOW = amzn_initial_DOW.reindex(['Mon','Tue','Wed','Thu','Fri','Sat','Sun'])\n",
    "amzn_initial_DOW"
   ]
  },
  {
   "cell_type": "code",
   "execution_count": 28,
   "id": "c8404db6",
   "metadata": {},
   "outputs": [
    {
     "data": {
      "text/html": [
       "<div>\n",
       "<style scoped>\n",
       "    .dataframe tbody tr th:only-of-type {\n",
       "        vertical-align: middle;\n",
       "    }\n",
       "\n",
       "    .dataframe tbody tr th {\n",
       "        vertical-align: top;\n",
       "    }\n",
       "\n",
       "    .dataframe thead th {\n",
       "        text-align: right;\n",
       "    }\n",
       "</style>\n",
       "<table border=\"1\" class=\"dataframe\">\n",
       "  <thead>\n",
       "    <tr style=\"text-align: right;\">\n",
       "      <th></th>\n",
       "      <th>Day</th>\n",
       "      <th>Tweets</th>\n",
       "    </tr>\n",
       "  </thead>\n",
       "  <tbody>\n",
       "    <tr>\n",
       "      <th>0</th>\n",
       "      <td>Mon</td>\n",
       "      <td>21935</td>\n",
       "    </tr>\n",
       "    <tr>\n",
       "      <th>1</th>\n",
       "      <td>Tue</td>\n",
       "      <td>25428</td>\n",
       "    </tr>\n",
       "    <tr>\n",
       "      <th>2</th>\n",
       "      <td>Wed</td>\n",
       "      <td>26858</td>\n",
       "    </tr>\n",
       "    <tr>\n",
       "      <th>3</th>\n",
       "      <td>Thu</td>\n",
       "      <td>26504</td>\n",
       "    </tr>\n",
       "    <tr>\n",
       "      <th>4</th>\n",
       "      <td>Fri</td>\n",
       "      <td>27612</td>\n",
       "    </tr>\n",
       "    <tr>\n",
       "      <th>5</th>\n",
       "      <td>Sat</td>\n",
       "      <td>21822</td>\n",
       "    </tr>\n",
       "    <tr>\n",
       "      <th>6</th>\n",
       "      <td>Sun</td>\n",
       "      <td>19681</td>\n",
       "    </tr>\n",
       "  </tbody>\n",
       "</table>\n",
       "</div>"
      ],
      "text/plain": [
       "   Day  Tweets\n",
       "0  Mon   21935\n",
       "1  Tue   25428\n",
       "2  Wed   26858\n",
       "3  Thu   26504\n",
       "4  Fri   27612\n",
       "5  Sat   21822\n",
       "6  Sun   19681"
      ]
     },
     "execution_count": 28,
     "metadata": {},
     "output_type": "execute_result"
    }
   ],
   "source": [
    "amzn_final_DOW = amzn_initial_DOW.reset_index(level=0)\n",
    "amzn_final_DOW = amzn_final_DOW.rename(columns={'index':'Day'})\n",
    "amzn_final_DOW"
   ]
  },
  {
   "cell_type": "code",
   "execution_count": 34,
   "id": "09d0e2d1",
   "metadata": {
    "scrolled": true
   },
   "outputs": [
    {
     "data": {
      "text/plain": [
       "<AxesSubplot:title={'center':'AmazonHelp'}, xlabel='Day'>"
      ]
     },
     "execution_count": 34,
     "metadata": {},
     "output_type": "execute_result"
    },
    {
     "data": {
      "image/png": "[encoded data removed]",
      "text/plain": [
       "<Figure size 432x288 with 1 Axes>"
      ]
     },
     "metadata": {
      "needs_background": "light"
     },
     "output_type": "display_data"
    }
   ],
   "source": [
    "amzn_final_DOW.plot.bar(title='AmazonHelp', color='#ADE6D8',x='Day', y='Tweets')"
   ]
  },
  {
   "cell_type": "code",
   "execution_count": 37,
   "id": "84c145c6",
   "metadata": {},
   "outputs": [
    {
     "name": "stderr",
     "output_type": "stream",
     "text": [
      "C:\\Users\\laith\\AppData\\Local\\Temp\\ipykernel_10576\\609425690.py:3: SettingWithCopyWarning: \n",
      "A value is trying to be set on a copy of a slice from a DataFrame.\n",
      "Try using .loc[row_indexer,col_indexer] = value instead\n",
      "\n",
      "See the caveats in the documentation: https://pandas.pydata.org/pandas-docs/stable/user_guide/indexing.html#returning-a-view-versus-a-copy\n",
      "  apple['Day of the Week'] = apple['created_at'].str[:3]\n"
     ]
    },
    {
     "data": {
      "text/html": [
       "<div>\n",
       "<style scoped>\n",
       "    .dataframe tbody tr th:only-of-type {\n",
       "        vertical-align: middle;\n",
       "    }\n",
       "\n",
       "    .dataframe tbody tr th {\n",
       "        vertical-align: top;\n",
       "    }\n",
       "\n",
       "    .dataframe thead th {\n",
       "        text-align: right;\n",
       "    }\n",
       "</style>\n",
       "<table border=\"1\" class=\"dataframe\">\n",
       "  <thead>\n",
       "    <tr style=\"text-align: right;\">\n",
       "      <th></th>\n",
       "      <th>Tweets</th>\n",
       "    </tr>\n",
       "  </thead>\n",
       "  <tbody>\n",
       "    <tr>\n",
       "      <th>Mon</th>\n",
       "      <td>15486</td>\n",
       "    </tr>\n",
       "    <tr>\n",
       "      <th>Tue</th>\n",
       "      <td>16155</td>\n",
       "    </tr>\n",
       "    <tr>\n",
       "      <th>Wed</th>\n",
       "      <td>16831</td>\n",
       "    </tr>\n",
       "    <tr>\n",
       "      <th>Thu</th>\n",
       "      <td>15178</td>\n",
       "    </tr>\n",
       "    <tr>\n",
       "      <th>Fri</th>\n",
       "      <td>14395</td>\n",
       "    </tr>\n",
       "    <tr>\n",
       "      <th>Sat</th>\n",
       "      <td>14068</td>\n",
       "    </tr>\n",
       "    <tr>\n",
       "      <th>Sun</th>\n",
       "      <td>14747</td>\n",
       "    </tr>\n",
       "  </tbody>\n",
       "</table>\n",
       "</div>"
      ],
      "text/plain": [
       "     Tweets\n",
       "Mon   15486\n",
       "Tue   16155\n",
       "Wed   16831\n",
       "Thu   15178\n",
       "Fri   14395\n",
       "Sat   14068\n",
       "Sun   14747"
      ]
     },
     "execution_count": 37,
     "metadata": {},
     "output_type": "execute_result"
    }
   ],
   "source": [
    "# New dataframe for AppleSupport\n",
    "apple = author_dates[author_dates['author_id'].str.contains(pat='AppleSupport')]\n",
    "apple['Day of the Week'] = apple['created_at'].str[:3]\n",
    "aapl_initial_DOW = pd.DataFrame({'Tweets':apple['Day of the Week'].value_counts()})\n",
    "aapl_initial_DOW = aapl_initial_DOW.reindex(['Mon','Tue','Wed','Thu','Fri','Sat','Sun'])\n",
    "aapl_initial_DOW"
   ]
  },
  {
   "cell_type": "code",
   "execution_count": 38,
   "id": "9440568c",
   "metadata": {},
   "outputs": [
    {
     "data": {
      "text/html": [
       "<div>\n",
       "<style scoped>\n",
       "    .dataframe tbody tr th:only-of-type {\n",
       "        vertical-align: middle;\n",
       "    }\n",
       "\n",
       "    .dataframe tbody tr th {\n",
       "        vertical-align: top;\n",
       "    }\n",
       "\n",
       "    .dataframe thead th {\n",
       "        text-align: right;\n",
       "    }\n",
       "</style>\n",
       "<table border=\"1\" class=\"dataframe\">\n",
       "  <thead>\n",
       "    <tr style=\"text-align: right;\">\n",
       "      <th></th>\n",
       "      <th>Day</th>\n",
       "      <th>Tweets</th>\n",
       "    </tr>\n",
       "  </thead>\n",
       "  <tbody>\n",
       "    <tr>\n",
       "      <th>0</th>\n",
       "      <td>Mon</td>\n",
       "      <td>15486</td>\n",
       "    </tr>\n",
       "    <tr>\n",
       "      <th>1</th>\n",
       "      <td>Tue</td>\n",
       "      <td>16155</td>\n",
       "    </tr>\n",
       "    <tr>\n",
       "      <th>2</th>\n",
       "      <td>Wed</td>\n",
       "      <td>16831</td>\n",
       "    </tr>\n",
       "    <tr>\n",
       "      <th>3</th>\n",
       "      <td>Thu</td>\n",
       "      <td>15178</td>\n",
       "    </tr>\n",
       "    <tr>\n",
       "      <th>4</th>\n",
       "      <td>Fri</td>\n",
       "      <td>14395</td>\n",
       "    </tr>\n",
       "    <tr>\n",
       "      <th>5</th>\n",
       "      <td>Sat</td>\n",
       "      <td>14068</td>\n",
       "    </tr>\n",
       "    <tr>\n",
       "      <th>6</th>\n",
       "      <td>Sun</td>\n",
       "      <td>14747</td>\n",
       "    </tr>\n",
       "  </tbody>\n",
       "</table>\n",
       "</div>"
      ],
      "text/plain": [
       "   Day  Tweets\n",
       "0  Mon   15486\n",
       "1  Tue   16155\n",
       "2  Wed   16831\n",
       "3  Thu   15178\n",
       "4  Fri   14395\n",
       "5  Sat   14068\n",
       "6  Sun   14747"
      ]
     },
     "execution_count": 38,
     "metadata": {},
     "output_type": "execute_result"
    }
   ],
   "source": [
    "aapl_final_DOW = aapl_initial_DOW.reset_index(level=0)\n",
    "aapl_final_DOW = aapl_final_DOW.rename(columns={'index':'Day'})\n",
    "aapl_final_DOW"
   ]
  },
  {
   "cell_type": "code",
   "execution_count": 39,
   "id": "e15b869d",
   "metadata": {},
   "outputs": [
    {
     "data": {
      "text/plain": [
       "<AxesSubplot:title={'center':'AppleSupport'}, xlabel='Day'>"
      ]
     },
     "execution_count": 39,
     "metadata": {},
     "output_type": "execute_result"
    },
    {
     "data": {
      "image/png": "[encoded data removed]",
      "text/plain": [
       "<Figure size 432x288 with 1 Axes>"
      ]
     },
     "metadata": {
      "needs_background": "light"
     },
     "output_type": "display_data"
    }
   ],
   "source": [
    "aapl_final_DOW.plot.bar(title='AppleSupport', color='#E6ADD8',x='Day', y='Tweets')"
   ]
  },
  {
   "cell_type": "code",
   "execution_count": 40,
   "id": "23393975",
   "metadata": {},
   "outputs": [
    {
     "name": "stderr",
     "output_type": "stream",
     "text": [
      "C:\\Users\\laith\\AppData\\Local\\Temp\\ipykernel_10576\\669505568.py:3: SettingWithCopyWarning: \n",
      "A value is trying to be set on a copy of a slice from a DataFrame.\n",
      "Try using .loc[row_indexer,col_indexer] = value instead\n",
      "\n",
      "See the caveats in the documentation: https://pandas.pydata.org/pandas-docs/stable/user_guide/indexing.html#returning-a-view-versus-a-copy\n",
      "  uber['Day of the Week'] = uber['created_at'].str[:3]\n"
     ]
    },
    {
     "data": {
      "text/html": [
       "<div>\n",
       "<style scoped>\n",
       "    .dataframe tbody tr th:only-of-type {\n",
       "        vertical-align: middle;\n",
       "    }\n",
       "\n",
       "    .dataframe tbody tr th {\n",
       "        vertical-align: top;\n",
       "    }\n",
       "\n",
       "    .dataframe thead th {\n",
       "        text-align: right;\n",
       "    }\n",
       "</style>\n",
       "<table border=\"1\" class=\"dataframe\">\n",
       "  <thead>\n",
       "    <tr style=\"text-align: right;\">\n",
       "      <th></th>\n",
       "      <th>Tweets</th>\n",
       "    </tr>\n",
       "  </thead>\n",
       "  <tbody>\n",
       "    <tr>\n",
       "      <th>Mon</th>\n",
       "      <td>7412</td>\n",
       "    </tr>\n",
       "    <tr>\n",
       "      <th>Tue</th>\n",
       "      <td>8039</td>\n",
       "    </tr>\n",
       "    <tr>\n",
       "      <th>Wed</th>\n",
       "      <td>8068</td>\n",
       "    </tr>\n",
       "    <tr>\n",
       "      <th>Thu</th>\n",
       "      <td>8718</td>\n",
       "    </tr>\n",
       "    <tr>\n",
       "      <th>Fri</th>\n",
       "      <td>8991</td>\n",
       "    </tr>\n",
       "    <tr>\n",
       "      <th>Sat</th>\n",
       "      <td>7350</td>\n",
       "    </tr>\n",
       "    <tr>\n",
       "      <th>Sun</th>\n",
       "      <td>7692</td>\n",
       "    </tr>\n",
       "  </tbody>\n",
       "</table>\n",
       "</div>"
      ],
      "text/plain": [
       "     Tweets\n",
       "Mon    7412\n",
       "Tue    8039\n",
       "Wed    8068\n",
       "Thu    8718\n",
       "Fri    8991\n",
       "Sat    7350\n",
       "Sun    7692"
      ]
     },
     "execution_count": 40,
     "metadata": {},
     "output_type": "execute_result"
    }
   ],
   "source": [
    "# New dataframe for Uber_Support \n",
    "uber = author_dates[author_dates['author_id'].str.contains(pat='Uber_Support')]\n",
    "uber['Day of the Week'] = uber['created_at'].str[:3]\n",
    "uber_initial_DOW = pd.DataFrame({'Tweets':uber['Day of the Week'].value_counts()})\n",
    "uber_initial_DOW = uber_initial_DOW.reindex(['Mon','Tue','Wed','Thu','Fri','Sat','Sun'])\n",
    "uber_initial_DOW"
   ]
  },
  {
   "cell_type": "code",
   "execution_count": 41,
   "id": "e49caf1f",
   "metadata": {},
   "outputs": [
    {
     "data": {
      "text/html": [
       "<div>\n",
       "<style scoped>\n",
       "    .dataframe tbody tr th:only-of-type {\n",
       "        vertical-align: middle;\n",
       "    }\n",
       "\n",
       "    .dataframe tbody tr th {\n",
       "        vertical-align: top;\n",
       "    }\n",
       "\n",
       "    .dataframe thead th {\n",
       "        text-align: right;\n",
       "    }\n",
       "</style>\n",
       "<table border=\"1\" class=\"dataframe\">\n",
       "  <thead>\n",
       "    <tr style=\"text-align: right;\">\n",
       "      <th></th>\n",
       "      <th>Day</th>\n",
       "      <th>Tweets</th>\n",
       "    </tr>\n",
       "  </thead>\n",
       "  <tbody>\n",
       "    <tr>\n",
       "      <th>0</th>\n",
       "      <td>Mon</td>\n",
       "      <td>7412</td>\n",
       "    </tr>\n",
       "    <tr>\n",
       "      <th>1</th>\n",
       "      <td>Tue</td>\n",
       "      <td>8039</td>\n",
       "    </tr>\n",
       "    <tr>\n",
       "      <th>2</th>\n",
       "      <td>Wed</td>\n",
       "      <td>8068</td>\n",
       "    </tr>\n",
       "    <tr>\n",
       "      <th>3</th>\n",
       "      <td>Thu</td>\n",
       "      <td>8718</td>\n",
       "    </tr>\n",
       "    <tr>\n",
       "      <th>4</th>\n",
       "      <td>Fri</td>\n",
       "      <td>8991</td>\n",
       "    </tr>\n",
       "    <tr>\n",
       "      <th>5</th>\n",
       "      <td>Sat</td>\n",
       "      <td>7350</td>\n",
       "    </tr>\n",
       "    <tr>\n",
       "      <th>6</th>\n",
       "      <td>Sun</td>\n",
       "      <td>7692</td>\n",
       "    </tr>\n",
       "  </tbody>\n",
       "</table>\n",
       "</div>"
      ],
      "text/plain": [
       "   Day  Tweets\n",
       "0  Mon    7412\n",
       "1  Tue    8039\n",
       "2  Wed    8068\n",
       "3  Thu    8718\n",
       "4  Fri    8991\n",
       "5  Sat    7350\n",
       "6  Sun    7692"
      ]
     },
     "execution_count": 41,
     "metadata": {},
     "output_type": "execute_result"
    }
   ],
   "source": [
    "uber_final_DOW = uber_initial_DOW.reset_index(level=0)\n",
    "uber_final_DOW = uber_final_DOW.rename(columns={'index':'Day'})\n",
    "uber_final_DOW"
   ]
  },
  {
   "cell_type": "code",
   "execution_count": 42,
   "id": "a6e4528d",
   "metadata": {},
   "outputs": [
    {
     "data": {
      "text/plain": [
       "<AxesSubplot:title={'center':'Uber_Support'}, xlabel='Day'>"
      ]
     },
     "execution_count": 42,
     "metadata": {},
     "output_type": "execute_result"
    },
    {
     "data": {
      "image/png": "[encoded data removed]",
      "text/plain": [
       "<Figure size 432x288 with 1 Axes>"
      ]
     },
     "metadata": {
      "needs_background": "light"
     },
     "output_type": "display_data"
    }
   ],
   "source": [
    "uber_final_DOW.plot.bar(title='Uber_Support', color='#CDCDCD',x='Day', y='Tweets')"
   ]
  },
  {
   "cell_type": "code",
   "execution_count": 58,
   "id": "8d52cf97",
   "metadata": {},
   "outputs": [
    {
     "name": "stderr",
     "output_type": "stream",
     "text": [
      "C:\\Users\\laith\\AppData\\Local\\Temp\\ipykernel_10576\\223358429.py:3: SettingWithCopyWarning: \n",
      "A value is trying to be set on a copy of a slice from a DataFrame.\n",
      "Try using .loc[row_indexer,col_indexer] = value instead\n",
      "\n",
      "See the caveats in the documentation: https://pandas.pydata.org/pandas-docs/stable/user_guide/indexing.html#returning-a-view-versus-a-copy\n",
      "  spotify['Day of the Week'] = spotify['created_at'].str[:3]\n"
     ]
    },
    {
     "data": {
      "text/html": [
       "<div>\n",
       "<style scoped>\n",
       "    .dataframe tbody tr th:only-of-type {\n",
       "        vertical-align: middle;\n",
       "    }\n",
       "\n",
       "    .dataframe tbody tr th {\n",
       "        vertical-align: top;\n",
       "    }\n",
       "\n",
       "    .dataframe thead th {\n",
       "        text-align: right;\n",
       "    }\n",
       "</style>\n",
       "<table border=\"1\" class=\"dataframe\">\n",
       "  <thead>\n",
       "    <tr style=\"text-align: right;\">\n",
       "      <th></th>\n",
       "      <th>Tweets</th>\n",
       "    </tr>\n",
       "  </thead>\n",
       "  <tbody>\n",
       "    <tr>\n",
       "      <th>Mon</th>\n",
       "      <td>6234</td>\n",
       "    </tr>\n",
       "    <tr>\n",
       "      <th>Tue</th>\n",
       "      <td>6783</td>\n",
       "    </tr>\n",
       "    <tr>\n",
       "      <th>Wed</th>\n",
       "      <td>7168</td>\n",
       "    </tr>\n",
       "    <tr>\n",
       "      <th>Thu</th>\n",
       "      <td>6897</td>\n",
       "    </tr>\n",
       "    <tr>\n",
       "      <th>Fri</th>\n",
       "      <td>7441</td>\n",
       "    </tr>\n",
       "    <tr>\n",
       "      <th>Sat</th>\n",
       "      <td>4258</td>\n",
       "    </tr>\n",
       "    <tr>\n",
       "      <th>Sun</th>\n",
       "      <td>4484</td>\n",
       "    </tr>\n",
       "  </tbody>\n",
       "</table>\n",
       "</div>"
      ],
      "text/plain": [
       "     Tweets\n",
       "Mon    6234\n",
       "Tue    6783\n",
       "Wed    7168\n",
       "Thu    6897\n",
       "Fri    7441\n",
       "Sat    4258\n",
       "Sun    4484"
      ]
     },
     "execution_count": 58,
     "metadata": {},
     "output_type": "execute_result"
    }
   ],
   "source": [
    "# New dataframe for SpotifyCares\n",
    "spotify = author_dates[author_dates['author_id'].str.contains(pat='SpotifyCares')]\n",
    "spotify['Day of the Week'] = spotify['created_at'].str[:3]\n",
    "spot_initial_DOW = pd.DataFrame({'Tweets':spotify['Day of the Week'].value_counts()})\n",
    "spot_initial_DOW = spot_initial_DOW.reindex(['Mon','Tue','Wed','Thu','Fri','Sat','Sun'])\n",
    "spot_initial_DOW"
   ]
  },
  {
   "cell_type": "code",
   "execution_count": 59,
   "id": "c23c5627",
   "metadata": {},
   "outputs": [
    {
     "data": {
      "text/html": [
       "<div>\n",
       "<style scoped>\n",
       "    .dataframe tbody tr th:only-of-type {\n",
       "        vertical-align: middle;\n",
       "    }\n",
       "\n",
       "    .dataframe tbody tr th {\n",
       "        vertical-align: top;\n",
       "    }\n",
       "\n",
       "    .dataframe thead th {\n",
       "        text-align: right;\n",
       "    }\n",
       "</style>\n",
       "<table border=\"1\" class=\"dataframe\">\n",
       "  <thead>\n",
       "    <tr style=\"text-align: right;\">\n",
       "      <th></th>\n",
       "      <th>Day</th>\n",
       "      <th>Tweets</th>\n",
       "    </tr>\n",
       "  </thead>\n",
       "  <tbody>\n",
       "    <tr>\n",
       "      <th>0</th>\n",
       "      <td>Mon</td>\n",
       "      <td>6234</td>\n",
       "    </tr>\n",
       "    <tr>\n",
       "      <th>1</th>\n",
       "      <td>Tue</td>\n",
       "      <td>6783</td>\n",
       "    </tr>\n",
       "    <tr>\n",
       "      <th>2</th>\n",
       "      <td>Wed</td>\n",
       "      <td>7168</td>\n",
       "    </tr>\n",
       "    <tr>\n",
       "      <th>3</th>\n",
       "      <td>Thu</td>\n",
       "      <td>6897</td>\n",
       "    </tr>\n",
       "    <tr>\n",
       "      <th>4</th>\n",
       "      <td>Fri</td>\n",
       "      <td>7441</td>\n",
       "    </tr>\n",
       "    <tr>\n",
       "      <th>5</th>\n",
       "      <td>Sat</td>\n",
       "      <td>4258</td>\n",
       "    </tr>\n",
       "    <tr>\n",
       "      <th>6</th>\n",
       "      <td>Sun</td>\n",
       "      <td>4484</td>\n",
       "    </tr>\n",
       "  </tbody>\n",
       "</table>\n",
       "</div>"
      ],
      "text/plain": [
       "   Day  Tweets\n",
       "0  Mon    6234\n",
       "1  Tue    6783\n",
       "2  Wed    7168\n",
       "3  Thu    6897\n",
       "4  Fri    7441\n",
       "5  Sat    4258\n",
       "6  Sun    4484"
      ]
     },
     "execution_count": 59,
     "metadata": {},
     "output_type": "execute_result"
    }
   ],
   "source": [
    "spot_final_DOW = spot_initial_DOW.reset_index(level=0)\n",
    "spot_final_DOW = spot_final_DOW.rename(columns={'index':'Day'})\n",
    "spot_final_DOW"
   ]
  },
  {
   "cell_type": "code",
   "execution_count": 60,
   "id": "74d574b0",
   "metadata": {},
   "outputs": [
    {
     "data": {
      "text/plain": [
       "<AxesSubplot:title={'center':'SpotifyCares'}, xlabel='Day'>"
      ]
     },
     "execution_count": 60,
     "metadata": {},
     "output_type": "execute_result"
    },
    {
     "data": {
      "image/png": "[encoded data removed]",
      "text/plain": [
       "<Figure size 432x288 with 1 Axes>"
      ]
     },
     "metadata": {
      "needs_background": "light"
     },
     "output_type": "display_data"
    }
   ],
   "source": [
    "spot_final_DOW.plot.bar(title='SpotifyCares', color='#C7CFD2',x='Day', y='Tweets')"
   ]
  },
  {
   "cell_type": "code",
   "execution_count": 54,
   "id": "444ba1c4",
   "metadata": {},
   "outputs": [
    {
     "name": "stderr",
     "output_type": "stream",
     "text": [
      "C:\\Users\\laith\\AppData\\Local\\Temp\\ipykernel_10576\\3116984668.py:3: SettingWithCopyWarning: \n",
      "A value is trying to be set on a copy of a slice from a DataFrame.\n",
      "Try using .loc[row_indexer,col_indexer] = value instead\n",
      "\n",
      "See the caveats in the documentation: https://pandas.pydata.org/pandas-docs/stable/user_guide/indexing.html#returning-a-view-versus-a-copy\n",
      "  delta['Day of the Week'] = delta['created_at'].str[:3]\n"
     ]
    },
    {
     "data": {
      "text/html": [
       "<div>\n",
       "<style scoped>\n",
       "    .dataframe tbody tr th:only-of-type {\n",
       "        vertical-align: middle;\n",
       "    }\n",
       "\n",
       "    .dataframe tbody tr th {\n",
       "        vertical-align: top;\n",
       "    }\n",
       "\n",
       "    .dataframe thead th {\n",
       "        text-align: right;\n",
       "    }\n",
       "</style>\n",
       "<table border=\"1\" class=\"dataframe\">\n",
       "  <thead>\n",
       "    <tr style=\"text-align: right;\">\n",
       "      <th></th>\n",
       "      <th>Tweets</th>\n",
       "    </tr>\n",
       "  </thead>\n",
       "  <tbody>\n",
       "    <tr>\n",
       "      <th>Mon</th>\n",
       "      <td>6657</td>\n",
       "    </tr>\n",
       "    <tr>\n",
       "      <th>Tue</th>\n",
       "      <td>6159</td>\n",
       "    </tr>\n",
       "    <tr>\n",
       "      <th>Wed</th>\n",
       "      <td>5953</td>\n",
       "    </tr>\n",
       "    <tr>\n",
       "      <th>Thu</th>\n",
       "      <td>6704</td>\n",
       "    </tr>\n",
       "    <tr>\n",
       "      <th>Fri</th>\n",
       "      <td>7268</td>\n",
       "    </tr>\n",
       "    <tr>\n",
       "      <th>Sat</th>\n",
       "      <td>4515</td>\n",
       "    </tr>\n",
       "    <tr>\n",
       "      <th>Sun</th>\n",
       "      <td>4997</td>\n",
       "    </tr>\n",
       "  </tbody>\n",
       "</table>\n",
       "</div>"
      ],
      "text/plain": [
       "     Tweets\n",
       "Mon    6657\n",
       "Tue    6159\n",
       "Wed    5953\n",
       "Thu    6704\n",
       "Fri    7268\n",
       "Sat    4515\n",
       "Sun    4997"
      ]
     },
     "execution_count": 54,
     "metadata": {},
     "output_type": "execute_result"
    }
   ],
   "source": [
    "# New dataframe for Delta\n",
    "delta = author_dates[author_dates['author_id'].str.contains(pat='Delta')]\n",
    "delta['Day of the Week'] = delta['created_at'].str[:3]\n",
    "dal_initial_DOW = pd.DataFrame({'Tweets':delta['Day of the Week'].value_counts()})\n",
    "dal_initial_DOW = dal_initial_DOW.reindex(['Mon','Tue','Wed','Thu','Fri','Sat','Sun'])\n",
    "dal_initial_DOW"
   ]
  },
  {
   "cell_type": "code",
   "execution_count": 55,
   "id": "c815ccfd",
   "metadata": {},
   "outputs": [
    {
     "data": {
      "text/html": [
       "<div>\n",
       "<style scoped>\n",
       "    .dataframe tbody tr th:only-of-type {\n",
       "        vertical-align: middle;\n",
       "    }\n",
       "\n",
       "    .dataframe tbody tr th {\n",
       "        vertical-align: top;\n",
       "    }\n",
       "\n",
       "    .dataframe thead th {\n",
       "        text-align: right;\n",
       "    }\n",
       "</style>\n",
       "<table border=\"1\" class=\"dataframe\">\n",
       "  <thead>\n",
       "    <tr style=\"text-align: right;\">\n",
       "      <th></th>\n",
       "      <th>Day</th>\n",
       "      <th>Tweets</th>\n",
       "    </tr>\n",
       "  </thead>\n",
       "  <tbody>\n",
       "    <tr>\n",
       "      <th>0</th>\n",
       "      <td>Mon</td>\n",
       "      <td>6657</td>\n",
       "    </tr>\n",
       "    <tr>\n",
       "      <th>1</th>\n",
       "      <td>Tue</td>\n",
       "      <td>6159</td>\n",
       "    </tr>\n",
       "    <tr>\n",
       "      <th>2</th>\n",
       "      <td>Wed</td>\n",
       "      <td>5953</td>\n",
       "    </tr>\n",
       "    <tr>\n",
       "      <th>3</th>\n",
       "      <td>Thu</td>\n",
       "      <td>6704</td>\n",
       "    </tr>\n",
       "    <tr>\n",
       "      <th>4</th>\n",
       "      <td>Fri</td>\n",
       "      <td>7268</td>\n",
       "    </tr>\n",
       "    <tr>\n",
       "      <th>5</th>\n",
       "      <td>Sat</td>\n",
       "      <td>4515</td>\n",
       "    </tr>\n",
       "    <tr>\n",
       "      <th>6</th>\n",
       "      <td>Sun</td>\n",
       "      <td>4997</td>\n",
       "    </tr>\n",
       "  </tbody>\n",
       "</table>\n",
       "</div>"
      ],
      "text/plain": [
       "   Day  Tweets\n",
       "0  Mon    6657\n",
       "1  Tue    6159\n",
       "2  Wed    5953\n",
       "3  Thu    6704\n",
       "4  Fri    7268\n",
       "5  Sat    4515\n",
       "6  Sun    4997"
      ]
     },
     "execution_count": 55,
     "metadata": {},
     "output_type": "execute_result"
    }
   ],
   "source": [
    "dal_final_DOW = dal_initial_DOW.reset_index(level=0)\n",
    "dal_final_DOW = dal_final_DOW.rename(columns={'index':'Day'})\n",
    "dal_final_DOW"
   ]
  },
  {
   "cell_type": "code",
   "execution_count": 56,
   "id": "32010284",
   "metadata": {},
   "outputs": [
    {
     "data": {
      "text/plain": [
       "<AxesSubplot:title={'center':'Delta'}, xlabel='Day'>"
      ]
     },
     "execution_count": 56,
     "metadata": {},
     "output_type": "execute_result"
    },
    {
     "data": {
      "image/png": "[encoded data removed]",
      "text/plain": [
       "<Figure size 432x288 with 1 Axes>"
      ]
     },
     "metadata": {
      "needs_background": "light"
     },
     "output_type": "display_data"
    }
   ],
   "source": [
    "dal_final_DOW.plot.bar(title='Delta', color='#D2D2E2',x='Day', y='Tweets')"
   ]
  },
  {
   "cell_type": "code",
   "execution_count": 57,
   "id": "1a4dcc4e",
   "metadata": {},
   "outputs": [
    {
     "name": "stderr",
     "output_type": "stream",
     "text": [
      "C:\\Users\\laith\\AppData\\Local\\Temp\\ipykernel_10576\\1366219386.py:3: SettingWithCopyWarning: \n",
      "A value is trying to be set on a copy of a slice from a DataFrame.\n",
      "Try using .loc[row_indexer,col_indexer] = value instead\n",
      "\n",
      "See the caveats in the documentation: https://pandas.pydata.org/pandas-docs/stable/user_guide/indexing.html#returning-a-view-versus-a-copy\n",
      "  tesco['Day of the Week'] = tesco['created_at'].str[:3]\n"
     ]
    },
    {
     "data": {
      "text/html": [
       "<div>\n",
       "<style scoped>\n",
       "    .dataframe tbody tr th:only-of-type {\n",
       "        vertical-align: middle;\n",
       "    }\n",
       "\n",
       "    .dataframe tbody tr th {\n",
       "        vertical-align: top;\n",
       "    }\n",
       "\n",
       "    .dataframe thead th {\n",
       "        text-align: right;\n",
       "    }\n",
       "</style>\n",
       "<table border=\"1\" class=\"dataframe\">\n",
       "  <thead>\n",
       "    <tr style=\"text-align: right;\">\n",
       "      <th></th>\n",
       "      <th>Tweets</th>\n",
       "    </tr>\n",
       "  </thead>\n",
       "  <tbody>\n",
       "    <tr>\n",
       "      <th>Mon</th>\n",
       "      <td>5811</td>\n",
       "    </tr>\n",
       "    <tr>\n",
       "      <th>Tue</th>\n",
       "      <td>5801</td>\n",
       "    </tr>\n",
       "    <tr>\n",
       "      <th>Wed</th>\n",
       "      <td>6594</td>\n",
       "    </tr>\n",
       "    <tr>\n",
       "      <th>Thu</th>\n",
       "      <td>5910</td>\n",
       "    </tr>\n",
       "    <tr>\n",
       "      <th>Fri</th>\n",
       "      <td>5954</td>\n",
       "    </tr>\n",
       "    <tr>\n",
       "      <th>Sat</th>\n",
       "      <td>3972</td>\n",
       "    </tr>\n",
       "    <tr>\n",
       "      <th>Sun</th>\n",
       "      <td>4531</td>\n",
       "    </tr>\n",
       "  </tbody>\n",
       "</table>\n",
       "</div>"
      ],
      "text/plain": [
       "     Tweets\n",
       "Mon    5811\n",
       "Tue    5801\n",
       "Wed    6594\n",
       "Thu    5910\n",
       "Fri    5954\n",
       "Sat    3972\n",
       "Sun    4531"
      ]
     },
     "execution_count": 57,
     "metadata": {},
     "output_type": "execute_result"
    }
   ],
   "source": [
    "# New dataframe for Tesco\n",
    "tesco = author_dates[author_dates['author_id'].str.contains(pat='Tesco')]\n",
    "tesco['Day of the Week'] = tesco['created_at'].str[:3]\n",
    "tsco_initial_DOW = pd.DataFrame({'Tweets':tesco['Day of the Week'].value_counts()})\n",
    "tsco_initial_DOW = tsco_initial_DOW.reindex(['Mon','Tue','Wed','Thu','Fri','Sat','Sun'])\n",
    "tsco_initial_DOW"
   ]
  },
  {
   "cell_type": "code",
   "execution_count": 61,
   "id": "446c48a4",
   "metadata": {},
   "outputs": [
    {
     "data": {
      "text/html": [
       "<div>\n",
       "<style scoped>\n",
       "    .dataframe tbody tr th:only-of-type {\n",
       "        vertical-align: middle;\n",
       "    }\n",
       "\n",
       "    .dataframe tbody tr th {\n",
       "        vertical-align: top;\n",
       "    }\n",
       "\n",
       "    .dataframe thead th {\n",
       "        text-align: right;\n",
       "    }\n",
       "</style>\n",
       "<table border=\"1\" class=\"dataframe\">\n",
       "  <thead>\n",
       "    <tr style=\"text-align: right;\">\n",
       "      <th></th>\n",
       "      <th>Day</th>\n",
       "      <th>Tweets</th>\n",
       "    </tr>\n",
       "  </thead>\n",
       "  <tbody>\n",
       "    <tr>\n",
       "      <th>0</th>\n",
       "      <td>Mon</td>\n",
       "      <td>5811</td>\n",
       "    </tr>\n",
       "    <tr>\n",
       "      <th>1</th>\n",
       "      <td>Tue</td>\n",
       "      <td>5801</td>\n",
       "    </tr>\n",
       "    <tr>\n",
       "      <th>2</th>\n",
       "      <td>Wed</td>\n",
       "      <td>6594</td>\n",
       "    </tr>\n",
       "    <tr>\n",
       "      <th>3</th>\n",
       "      <td>Thu</td>\n",
       "      <td>5910</td>\n",
       "    </tr>\n",
       "    <tr>\n",
       "      <th>4</th>\n",
       "      <td>Fri</td>\n",
       "      <td>5954</td>\n",
       "    </tr>\n",
       "    <tr>\n",
       "      <th>5</th>\n",
       "      <td>Sat</td>\n",
       "      <td>3972</td>\n",
       "    </tr>\n",
       "    <tr>\n",
       "      <th>6</th>\n",
       "      <td>Sun</td>\n",
       "      <td>4531</td>\n",
       "    </tr>\n",
       "  </tbody>\n",
       "</table>\n",
       "</div>"
      ],
      "text/plain": [
       "   Day  Tweets\n",
       "0  Mon    5811\n",
       "1  Tue    5801\n",
       "2  Wed    6594\n",
       "3  Thu    5910\n",
       "4  Fri    5954\n",
       "5  Sat    3972\n",
       "6  Sun    4531"
      ]
     },
     "execution_count": 61,
     "metadata": {},
     "output_type": "execute_result"
    }
   ],
   "source": [
    "tsco_final_DOW = tsco_initial_DOW.reset_index(level=0)\n",
    "tsco_final_DOW = tsco_final_DOW.rename(columns={'index':'Day'})\n",
    "tsco_final_DOW"
   ]
  },
  {
   "cell_type": "code",
   "execution_count": 62,
   "id": "2ab779f2",
   "metadata": {},
   "outputs": [
    {
     "data": {
      "text/plain": [
       "<AxesSubplot:title={'center':'Tesco'}, xlabel='Day'>"
      ]
     },
     "execution_count": 62,
     "metadata": {},
     "output_type": "execute_result"
    },
    {
     "data": {
      "image/png": "[encoded data removed]",
      "text/plain": [
       "<Figure size 432x288 with 1 Axes>"
      ]
     },
     "metadata": {
      "needs_background": "light"
     },
     "output_type": "display_data"
    }
   ],
   "source": [
    "tsco_final_DOW.plot.bar(title='Tesco', color='#DBCEEB',x='Day', y='Tweets')"
   ]
  },
  {
   "cell_type": "code",
   "execution_count": 63,
   "id": "e424fda7",
   "metadata": {},
   "outputs": [
    {
     "name": "stderr",
     "output_type": "stream",
     "text": [
      "C:\\Users\\laith\\AppData\\Local\\Temp\\ipykernel_10576\\1599842869.py:3: SettingWithCopyWarning: \n",
      "A value is trying to be set on a copy of a slice from a DataFrame.\n",
      "Try using .loc[row_indexer,col_indexer] = value instead\n",
      "\n",
      "See the caveats in the documentation: https://pandas.pydata.org/pandas-docs/stable/user_guide/indexing.html#returning-a-view-versus-a-copy\n",
      "  american_air['Day of the Week'] = american_air['created_at'].str[:3]\n"
     ]
    },
    {
     "data": {
      "text/html": [
       "<div>\n",
       "<style scoped>\n",
       "    .dataframe tbody tr th:only-of-type {\n",
       "        vertical-align: middle;\n",
       "    }\n",
       "\n",
       "    .dataframe tbody tr th {\n",
       "        vertical-align: top;\n",
       "    }\n",
       "\n",
       "    .dataframe thead th {\n",
       "        text-align: right;\n",
       "    }\n",
       "</style>\n",
       "<table border=\"1\" class=\"dataframe\">\n",
       "  <thead>\n",
       "    <tr style=\"text-align: right;\">\n",
       "      <th></th>\n",
       "      <th>Tweets</th>\n",
       "    </tr>\n",
       "  </thead>\n",
       "  <tbody>\n",
       "    <tr>\n",
       "      <th>Mon</th>\n",
       "      <td>5590</td>\n",
       "    </tr>\n",
       "    <tr>\n",
       "      <th>Tue</th>\n",
       "      <td>4978</td>\n",
       "    </tr>\n",
       "    <tr>\n",
       "      <th>Wed</th>\n",
       "      <td>5281</td>\n",
       "    </tr>\n",
       "    <tr>\n",
       "      <th>Thu</th>\n",
       "      <td>5655</td>\n",
       "    </tr>\n",
       "    <tr>\n",
       "      <th>Fri</th>\n",
       "      <td>5793</td>\n",
       "    </tr>\n",
       "    <tr>\n",
       "      <th>Sat</th>\n",
       "      <td>4630</td>\n",
       "    </tr>\n",
       "    <tr>\n",
       "      <th>Sun</th>\n",
       "      <td>4837</td>\n",
       "    </tr>\n",
       "  </tbody>\n",
       "</table>\n",
       "</div>"
      ],
      "text/plain": [
       "     Tweets\n",
       "Mon    5590\n",
       "Tue    4978\n",
       "Wed    5281\n",
       "Thu    5655\n",
       "Fri    5793\n",
       "Sat    4630\n",
       "Sun    4837"
      ]
     },
     "execution_count": 63,
     "metadata": {},
     "output_type": "execute_result"
    }
   ],
   "source": [
    "# New dataframe for AmericanAir\n",
    "american_air = author_dates[author_dates['author_id'].str.contains(pat='AmericanAir')]\n",
    "american_air['Day of the Week'] = american_air['created_at'].str[:3]\n",
    "aal_initial_DOW = pd.DataFrame({'Tweets':american_air['Day of the Week'].value_counts()})\n",
    "aal_initial_DOW = aal_initial_DOW.reindex(['Mon','Tue','Wed','Thu','Fri','Sat','Sun'])\n",
    "aal_initial_DOW"
   ]
  },
  {
   "cell_type": "code",
   "execution_count": 64,
   "id": "3fe400c3",
   "metadata": {},
   "outputs": [
    {
     "data": {
      "text/html": [
       "<div>\n",
       "<style scoped>\n",
       "    .dataframe tbody tr th:only-of-type {\n",
       "        vertical-align: middle;\n",
       "    }\n",
       "\n",
       "    .dataframe tbody tr th {\n",
       "        vertical-align: top;\n",
       "    }\n",
       "\n",
       "    .dataframe thead th {\n",
       "        text-align: right;\n",
       "    }\n",
       "</style>\n",
       "<table border=\"1\" class=\"dataframe\">\n",
       "  <thead>\n",
       "    <tr style=\"text-align: right;\">\n",
       "      <th></th>\n",
       "      <th>Day</th>\n",
       "      <th>Tweets</th>\n",
       "    </tr>\n",
       "  </thead>\n",
       "  <tbody>\n",
       "    <tr>\n",
       "      <th>0</th>\n",
       "      <td>Mon</td>\n",
       "      <td>5590</td>\n",
       "    </tr>\n",
       "    <tr>\n",
       "      <th>1</th>\n",
       "      <td>Tue</td>\n",
       "      <td>4978</td>\n",
       "    </tr>\n",
       "    <tr>\n",
       "      <th>2</th>\n",
       "      <td>Wed</td>\n",
       "      <td>5281</td>\n",
       "    </tr>\n",
       "    <tr>\n",
       "      <th>3</th>\n",
       "      <td>Thu</td>\n",
       "      <td>5655</td>\n",
       "    </tr>\n",
       "    <tr>\n",
       "      <th>4</th>\n",
       "      <td>Fri</td>\n",
       "      <td>5793</td>\n",
       "    </tr>\n",
       "    <tr>\n",
       "      <th>5</th>\n",
       "      <td>Sat</td>\n",
       "      <td>4630</td>\n",
       "    </tr>\n",
       "    <tr>\n",
       "      <th>6</th>\n",
       "      <td>Sun</td>\n",
       "      <td>4837</td>\n",
       "    </tr>\n",
       "  </tbody>\n",
       "</table>\n",
       "</div>"
      ],
      "text/plain": [
       "   Day  Tweets\n",
       "0  Mon    5590\n",
       "1  Tue    4978\n",
       "2  Wed    5281\n",
       "3  Thu    5655\n",
       "4  Fri    5793\n",
       "5  Sat    4630\n",
       "6  Sun    4837"
      ]
     },
     "execution_count": 64,
     "metadata": {},
     "output_type": "execute_result"
    }
   ],
   "source": [
    "aal_final_DOW = aal_initial_DOW.reset_index(level=0)\n",
    "aal_final_DOW = aal_final_DOW.rename(columns={'index':'Day'})\n",
    "aal_final_DOW"
   ]
  },
  {
   "cell_type": "code",
   "execution_count": 65,
   "id": "a14678c5",
   "metadata": {},
   "outputs": [
    {
     "data": {
      "text/plain": [
       "<AxesSubplot:title={'center':'AmericanAir'}, xlabel='Day'>"
      ]
     },
     "execution_count": 65,
     "metadata": {},
     "output_type": "execute_result"
    },
    {
     "data": {
      "image/png": "[encoded data removed]",
      "text/plain": [
       "<Figure size 432x288 with 1 Axes>"
      ]
     },
     "metadata": {
      "needs_background": "light"
     },
     "output_type": "display_data"
    }
   ],
   "source": [
    "aal_final_DOW.plot.bar(title='AmericanAir', color='#B1D9E9',x='Day', y='Tweets')"
   ]
  },
  {
   "cell_type": "code",
   "execution_count": 66,
   "id": "35672b1d",
   "metadata": {},
   "outputs": [
    {
     "name": "stderr",
     "output_type": "stream",
     "text": [
      "C:\\Users\\laith\\AppData\\Local\\Temp\\ipykernel_10576\\475699138.py:3: SettingWithCopyWarning: \n",
      "A value is trying to be set on a copy of a slice from a DataFrame.\n",
      "Try using .loc[row_indexer,col_indexer] = value instead\n",
      "\n",
      "See the caveats in the documentation: https://pandas.pydata.org/pandas-docs/stable/user_guide/indexing.html#returning-a-view-versus-a-copy\n",
      "  tmobile['Day of the Week'] = tmobile['created_at'].str[:3]\n"
     ]
    },
    {
     "data": {
      "text/html": [
       "<div>\n",
       "<style scoped>\n",
       "    .dataframe tbody tr th:only-of-type {\n",
       "        vertical-align: middle;\n",
       "    }\n",
       "\n",
       "    .dataframe tbody tr th {\n",
       "        vertical-align: top;\n",
       "    }\n",
       "\n",
       "    .dataframe thead th {\n",
       "        text-align: right;\n",
       "    }\n",
       "</style>\n",
       "<table border=\"1\" class=\"dataframe\">\n",
       "  <thead>\n",
       "    <tr style=\"text-align: right;\">\n",
       "      <th></th>\n",
       "      <th>Tweets</th>\n",
       "    </tr>\n",
       "  </thead>\n",
       "  <tbody>\n",
       "    <tr>\n",
       "      <th>Mon</th>\n",
       "      <td>3933</td>\n",
       "    </tr>\n",
       "    <tr>\n",
       "      <th>Tue</th>\n",
       "      <td>5511</td>\n",
       "    </tr>\n",
       "    <tr>\n",
       "      <th>Wed</th>\n",
       "      <td>5416</td>\n",
       "    </tr>\n",
       "    <tr>\n",
       "      <th>Thu</th>\n",
       "      <td>5508</td>\n",
       "    </tr>\n",
       "    <tr>\n",
       "      <th>Fri</th>\n",
       "      <td>6944</td>\n",
       "    </tr>\n",
       "    <tr>\n",
       "      <th>Sat</th>\n",
       "      <td>3769</td>\n",
       "    </tr>\n",
       "    <tr>\n",
       "      <th>Sun</th>\n",
       "      <td>3236</td>\n",
       "    </tr>\n",
       "  </tbody>\n",
       "</table>\n",
       "</div>"
      ],
      "text/plain": [
       "     Tweets\n",
       "Mon    3933\n",
       "Tue    5511\n",
       "Wed    5416\n",
       "Thu    5508\n",
       "Fri    6944\n",
       "Sat    3769\n",
       "Sun    3236"
      ]
     },
     "execution_count": 66,
     "metadata": {},
     "output_type": "execute_result"
    }
   ],
   "source": [
    "# New dataframe for T-Mobile\n",
    "tmobile = author_dates[author_dates['author_id'].str.contains(pat='TMobileHelp')]\n",
    "tmobile['Day of the Week'] = tmobile['created_at'].str[:3]\n",
    "tmus_initial_DOW = pd.DataFrame({'Tweets':tmobile['Day of the Week'].value_counts()})\n",
    "tmus_initial_DOW = tmus_initial_DOW.reindex(['Mon','Tue','Wed','Thu','Fri','Sat','Sun'])\n",
    "tmus_initial_DOW"
   ]
  },
  {
   "cell_type": "code",
   "execution_count": 67,
   "id": "6a6f7e02",
   "metadata": {},
   "outputs": [
    {
     "data": {
      "text/html": [
       "<div>\n",
       "<style scoped>\n",
       "    .dataframe tbody tr th:only-of-type {\n",
       "        vertical-align: middle;\n",
       "    }\n",
       "\n",
       "    .dataframe tbody tr th {\n",
       "        vertical-align: top;\n",
       "    }\n",
       "\n",
       "    .dataframe thead th {\n",
       "        text-align: right;\n",
       "    }\n",
       "</style>\n",
       "<table border=\"1\" class=\"dataframe\">\n",
       "  <thead>\n",
       "    <tr style=\"text-align: right;\">\n",
       "      <th></th>\n",
       "      <th>Day</th>\n",
       "      <th>Tweets</th>\n",
       "    </tr>\n",
       "  </thead>\n",
       "  <tbody>\n",
       "    <tr>\n",
       "      <th>0</th>\n",
       "      <td>Mon</td>\n",
       "      <td>3933</td>\n",
       "    </tr>\n",
       "    <tr>\n",
       "      <th>1</th>\n",
       "      <td>Tue</td>\n",
       "      <td>5511</td>\n",
       "    </tr>\n",
       "    <tr>\n",
       "      <th>2</th>\n",
       "      <td>Wed</td>\n",
       "      <td>5416</td>\n",
       "    </tr>\n",
       "    <tr>\n",
       "      <th>3</th>\n",
       "      <td>Thu</td>\n",
       "      <td>5508</td>\n",
       "    </tr>\n",
       "    <tr>\n",
       "      <th>4</th>\n",
       "      <td>Fri</td>\n",
       "      <td>6944</td>\n",
       "    </tr>\n",
       "    <tr>\n",
       "      <th>5</th>\n",
       "      <td>Sat</td>\n",
       "      <td>3769</td>\n",
       "    </tr>\n",
       "    <tr>\n",
       "      <th>6</th>\n",
       "      <td>Sun</td>\n",
       "      <td>3236</td>\n",
       "    </tr>\n",
       "  </tbody>\n",
       "</table>\n",
       "</div>"
      ],
      "text/plain": [
       "   Day  Tweets\n",
       "0  Mon    3933\n",
       "1  Tue    5511\n",
       "2  Wed    5416\n",
       "3  Thu    5508\n",
       "4  Fri    6944\n",
       "5  Sat    3769\n",
       "6  Sun    3236"
      ]
     },
     "execution_count": 67,
     "metadata": {},
     "output_type": "execute_result"
    }
   ],
   "source": [
    "tmus_final_DOW = tmus_initial_DOW.reset_index(level=0)\n",
    "tmus_final_DOW = tmus_final_DOW.rename(columns={'index':'Day'})\n",
    "tmus_final_DOW"
   ]
  },
  {
   "cell_type": "code",
   "execution_count": 68,
   "id": "67e09d08",
   "metadata": {},
   "outputs": [
    {
     "data": {
      "text/plain": [
       "<AxesSubplot:title={'center':'TMobileHelp'}, xlabel='Day'>"
      ]
     },
     "execution_count": 68,
     "metadata": {},
     "output_type": "execute_result"
    },
    {
     "data": {
      "image/png": "[encoded data removed]",
      "text/plain": [
       "<Figure size 432x288 with 1 Axes>"
      ]
     },
     "metadata": {
      "needs_background": "light"
     },
     "output_type": "display_data"
    }
   ],
   "source": [
    "tmus_final_DOW.plot.bar(title='TMobileHelp', color='#C4D4E3',x='Day', y='Tweets')"
   ]
  },
  {
   "cell_type": "code",
   "execution_count": 69,
   "id": "945aa20c",
   "metadata": {},
   "outputs": [
    {
     "name": "stderr",
     "output_type": "stream",
     "text": [
      "C:\\Users\\laith\\AppData\\Local\\Temp\\ipykernel_10576\\1332690084.py:3: SettingWithCopyWarning: \n",
      "A value is trying to be set on a copy of a slice from a DataFrame.\n",
      "Try using .loc[row_indexer,col_indexer] = value instead\n",
      "\n",
      "See the caveats in the documentation: https://pandas.pydata.org/pandas-docs/stable/user_guide/indexing.html#returning-a-view-versus-a-copy\n",
      "  comcast['Day of the Week'] = comcast['created_at'].str[:3]\n"
     ]
    },
    {
     "data": {
      "text/html": [
       "<div>\n",
       "<style scoped>\n",
       "    .dataframe tbody tr th:only-of-type {\n",
       "        vertical-align: middle;\n",
       "    }\n",
       "\n",
       "    .dataframe tbody tr th {\n",
       "        vertical-align: top;\n",
       "    }\n",
       "\n",
       "    .dataframe thead th {\n",
       "        text-align: right;\n",
       "    }\n",
       "</style>\n",
       "<table border=\"1\" class=\"dataframe\">\n",
       "  <thead>\n",
       "    <tr style=\"text-align: right;\">\n",
       "      <th></th>\n",
       "      <th>Tweets</th>\n",
       "    </tr>\n",
       "  </thead>\n",
       "  <tbody>\n",
       "    <tr>\n",
       "      <th>Mon</th>\n",
       "      <td>4771</td>\n",
       "    </tr>\n",
       "    <tr>\n",
       "      <th>Tue</th>\n",
       "      <td>4920</td>\n",
       "    </tr>\n",
       "    <tr>\n",
       "      <th>Wed</th>\n",
       "      <td>5075</td>\n",
       "    </tr>\n",
       "    <tr>\n",
       "      <th>Thu</th>\n",
       "      <td>4702</td>\n",
       "    </tr>\n",
       "    <tr>\n",
       "      <th>Fri</th>\n",
       "      <td>4685</td>\n",
       "    </tr>\n",
       "    <tr>\n",
       "      <th>Sat</th>\n",
       "      <td>4182</td>\n",
       "    </tr>\n",
       "    <tr>\n",
       "      <th>Sun</th>\n",
       "      <td>4696</td>\n",
       "    </tr>\n",
       "  </tbody>\n",
       "</table>\n",
       "</div>"
      ],
      "text/plain": [
       "     Tweets\n",
       "Mon    4771\n",
       "Tue    4920\n",
       "Wed    5075\n",
       "Thu    4702\n",
       "Fri    4685\n",
       "Sat    4182\n",
       "Sun    4696"
      ]
     },
     "execution_count": 69,
     "metadata": {},
     "output_type": "execute_result"
    }
   ],
   "source": [
    "# New dataframe for comcast\n",
    "comcast = author_dates[author_dates['author_id'].str.contains(pat='comcastcares')]\n",
    "comcast['Day of the Week'] = comcast['created_at'].str[:3]\n",
    "cmcsa_initial_DOW = pd.DataFrame({'Tweets':comcast['Day of the Week'].value_counts()})\n",
    "cmcsa_initial_DOW = cmcsa_initial_DOW.reindex(['Mon','Tue','Wed','Thu','Fri','Sat','Sun'])\n",
    "cmcsa_initial_DOW"
   ]
  },
  {
   "cell_type": "code",
   "execution_count": 70,
   "id": "74685cd8",
   "metadata": {},
   "outputs": [
    {
     "data": {
      "text/html": [
       "<div>\n",
       "<style scoped>\n",
       "    .dataframe tbody tr th:only-of-type {\n",
       "        vertical-align: middle;\n",
       "    }\n",
       "\n",
       "    .dataframe tbody tr th {\n",
       "        vertical-align: top;\n",
       "    }\n",
       "\n",
       "    .dataframe thead th {\n",
       "        text-align: right;\n",
       "    }\n",
       "</style>\n",
       "<table border=\"1\" class=\"dataframe\">\n",
       "  <thead>\n",
       "    <tr style=\"text-align: right;\">\n",
       "      <th></th>\n",
       "      <th>Day</th>\n",
       "      <th>Tweets</th>\n",
       "    </tr>\n",
       "  </thead>\n",
       "  <tbody>\n",
       "    <tr>\n",
       "      <th>0</th>\n",
       "      <td>Mon</td>\n",
       "      <td>4771</td>\n",
       "    </tr>\n",
       "    <tr>\n",
       "      <th>1</th>\n",
       "      <td>Tue</td>\n",
       "      <td>4920</td>\n",
       "    </tr>\n",
       "    <tr>\n",
       "      <th>2</th>\n",
       "      <td>Wed</td>\n",
       "      <td>5075</td>\n",
       "    </tr>\n",
       "    <tr>\n",
       "      <th>3</th>\n",
       "      <td>Thu</td>\n",
       "      <td>4702</td>\n",
       "    </tr>\n",
       "    <tr>\n",
       "      <th>4</th>\n",
       "      <td>Fri</td>\n",
       "      <td>4685</td>\n",
       "    </tr>\n",
       "    <tr>\n",
       "      <th>5</th>\n",
       "      <td>Sat</td>\n",
       "      <td>4182</td>\n",
       "    </tr>\n",
       "    <tr>\n",
       "      <th>6</th>\n",
       "      <td>Sun</td>\n",
       "      <td>4696</td>\n",
       "    </tr>\n",
       "  </tbody>\n",
       "</table>\n",
       "</div>"
      ],
      "text/plain": [
       "   Day  Tweets\n",
       "0  Mon    4771\n",
       "1  Tue    4920\n",
       "2  Wed    5075\n",
       "3  Thu    4702\n",
       "4  Fri    4685\n",
       "5  Sat    4182\n",
       "6  Sun    4696"
      ]
     },
     "execution_count": 70,
     "metadata": {},
     "output_type": "execute_result"
    }
   ],
   "source": [
    "cmcsa_final_DOW = cmcsa_initial_DOW.reset_index(level=0)\n",
    "cmcsa_final_DOW = cmcsa_final_DOW.rename(columns={'index':'Day'})\n",
    "cmcsa_final_DOW"
   ]
  },
  {
   "cell_type": "code",
   "execution_count": 71,
   "id": "e463e0f7",
   "metadata": {},
   "outputs": [
    {
     "data": {
      "text/plain": [
       "<AxesSubplot:title={'center':'comcastcares'}, xlabel='Day'>"
      ]
     },
     "execution_count": 71,
     "metadata": {},
     "output_type": "execute_result"
    },
    {
     "data": {
      "image/png": "[encoded data removed]",
      "text/plain": [
       "<Figure size 432x288 with 1 Axes>"
      ]
     },
     "metadata": {
      "needs_background": "light"
     },
     "output_type": "display_data"
    }
   ],
   "source": [
    "cmcsa_final_DOW.plot.bar(title='comcastcares', color='#CAD1E9',x='Day', y='Tweets')"
   ]
  },
  {
   "cell_type": "code",
   "execution_count": 72,
   "id": "a204461b",
   "metadata": {},
   "outputs": [
    {
     "name": "stderr",
     "output_type": "stream",
     "text": [
      "C:\\Users\\laith\\AppData\\Local\\Temp\\ipykernel_10576\\2955090106.py:3: SettingWithCopyWarning: \n",
      "A value is trying to be set on a copy of a slice from a DataFrame.\n",
      "Try using .loc[row_indexer,col_indexer] = value instead\n",
      "\n",
      "See the caveats in the documentation: https://pandas.pydata.org/pandas-docs/stable/user_guide/indexing.html#returning-a-view-versus-a-copy\n",
      "  british_airways['Day of the Week'] = british_airways['created_at'].str[:3]\n"
     ]
    },
    {
     "data": {
      "text/html": [
       "<div>\n",
       "<style scoped>\n",
       "    .dataframe tbody tr th:only-of-type {\n",
       "        vertical-align: middle;\n",
       "    }\n",
       "\n",
       "    .dataframe tbody tr th {\n",
       "        vertical-align: top;\n",
       "    }\n",
       "\n",
       "    .dataframe thead th {\n",
       "        text-align: right;\n",
       "    }\n",
       "</style>\n",
       "<table border=\"1\" class=\"dataframe\">\n",
       "  <thead>\n",
       "    <tr style=\"text-align: right;\">\n",
       "      <th></th>\n",
       "      <th>Tweets</th>\n",
       "    </tr>\n",
       "  </thead>\n",
       "  <tbody>\n",
       "    <tr>\n",
       "      <th>Mon</th>\n",
       "      <td>4097</td>\n",
       "    </tr>\n",
       "    <tr>\n",
       "      <th>Tue</th>\n",
       "      <td>4525</td>\n",
       "    </tr>\n",
       "    <tr>\n",
       "      <th>Wed</th>\n",
       "      <td>4544</td>\n",
       "    </tr>\n",
       "    <tr>\n",
       "      <th>Thu</th>\n",
       "      <td>4778</td>\n",
       "    </tr>\n",
       "    <tr>\n",
       "      <th>Fri</th>\n",
       "      <td>4228</td>\n",
       "    </tr>\n",
       "    <tr>\n",
       "      <th>Sat</th>\n",
       "      <td>3624</td>\n",
       "    </tr>\n",
       "    <tr>\n",
       "      <th>Sun</th>\n",
       "      <td>3565</td>\n",
       "    </tr>\n",
       "  </tbody>\n",
       "</table>\n",
       "</div>"
      ],
      "text/plain": [
       "     Tweets\n",
       "Mon    4097\n",
       "Tue    4525\n",
       "Wed    4544\n",
       "Thu    4778\n",
       "Fri    4228\n",
       "Sat    3624\n",
       "Sun    3565"
      ]
     },
     "execution_count": 72,
     "metadata": {},
     "output_type": "execute_result"
    }
   ],
   "source": [
    "# New dataframe for british airways\n",
    "british_airways = author_dates[author_dates['author_id'].str.contains(pat='British_Airways')]\n",
    "british_airways['Day of the Week'] = british_airways['created_at'].str[:3]\n",
    "bay_initial_DOW = pd.DataFrame({'Tweets':british_airways['Day of the Week'].value_counts()})\n",
    "bay_initial_DOW = bay_initial_DOW.reindex(['Mon','Tue','Wed','Thu','Fri','Sat','Sun'])\n",
    "bay_initial_DOW"
   ]
  },
  {
   "cell_type": "code",
   "execution_count": 73,
   "id": "93210678",
   "metadata": {},
   "outputs": [
    {
     "data": {
      "text/html": [
       "<div>\n",
       "<style scoped>\n",
       "    .dataframe tbody tr th:only-of-type {\n",
       "        vertical-align: middle;\n",
       "    }\n",
       "\n",
       "    .dataframe tbody tr th {\n",
       "        vertical-align: top;\n",
       "    }\n",
       "\n",
       "    .dataframe thead th {\n",
       "        text-align: right;\n",
       "    }\n",
       "</style>\n",
       "<table border=\"1\" class=\"dataframe\">\n",
       "  <thead>\n",
       "    <tr style=\"text-align: right;\">\n",
       "      <th></th>\n",
       "      <th>Day</th>\n",
       "      <th>Tweets</th>\n",
       "    </tr>\n",
       "  </thead>\n",
       "  <tbody>\n",
       "    <tr>\n",
       "      <th>0</th>\n",
       "      <td>Mon</td>\n",
       "      <td>4097</td>\n",
       "    </tr>\n",
       "    <tr>\n",
       "      <th>1</th>\n",
       "      <td>Tue</td>\n",
       "      <td>4525</td>\n",
       "    </tr>\n",
       "    <tr>\n",
       "      <th>2</th>\n",
       "      <td>Wed</td>\n",
       "      <td>4544</td>\n",
       "    </tr>\n",
       "    <tr>\n",
       "      <th>3</th>\n",
       "      <td>Thu</td>\n",
       "      <td>4778</td>\n",
       "    </tr>\n",
       "    <tr>\n",
       "      <th>4</th>\n",
       "      <td>Fri</td>\n",
       "      <td>4228</td>\n",
       "    </tr>\n",
       "    <tr>\n",
       "      <th>5</th>\n",
       "      <td>Sat</td>\n",
       "      <td>3624</td>\n",
       "    </tr>\n",
       "    <tr>\n",
       "      <th>6</th>\n",
       "      <td>Sun</td>\n",
       "      <td>3565</td>\n",
       "    </tr>\n",
       "  </tbody>\n",
       "</table>\n",
       "</div>"
      ],
      "text/plain": [
       "   Day  Tweets\n",
       "0  Mon    4097\n",
       "1  Tue    4525\n",
       "2  Wed    4544\n",
       "3  Thu    4778\n",
       "4  Fri    4228\n",
       "5  Sat    3624\n",
       "6  Sun    3565"
      ]
     },
     "execution_count": 73,
     "metadata": {},
     "output_type": "execute_result"
    }
   ],
   "source": [
    "bay_final_DOW = bay_initial_DOW.reset_index(level=0)\n",
    "bay_final_DOW = bay_final_DOW.rename(columns={'index':'Day'})\n",
    "bay_final_DOW"
   ]
  },
  {
   "cell_type": "code",
   "execution_count": 74,
   "id": "31f66da7",
   "metadata": {},
   "outputs": [
    {
     "data": {
      "text/plain": [
       "<AxesSubplot:title={'center':'British_Airways'}, xlabel='Day'>"
      ]
     },
     "execution_count": 74,
     "metadata": {},
     "output_type": "execute_result"
    },
    {
     "data": {
      "image/png": "[encoded data removed]",
      "text/plain": [
       "<Figure size 432x288 with 1 Axes>"
      ]
     },
     "metadata": {
      "needs_background": "light"
     },
     "output_type": "display_data"
    }
   ],
   "source": [
    "bay_final_DOW.plot.bar(title='British_Airways', color='#B0D9E8',x='Day', y='Tweets')"
   ]
  },
  {
   "cell_type": "code",
   "execution_count": 79,
   "id": "e7e26e35",
   "metadata": {},
   "outputs": [
    {
     "name": "stderr",
     "output_type": "stream",
     "text": [
      "C:\\Users\\laith\\AppData\\Local\\Temp\\ipykernel_10576\\3419322095.py:3: SettingWithCopyWarning: \n",
      "A value is trying to be set on a copy of a slice from a DataFrame.\n",
      "Try using .loc[row_indexer,col_indexer] = value instead\n",
      "\n",
      "See the caveats in the documentation: https://pandas.pydata.org/pandas-docs/stable/user_guide/indexing.html#returning-a-view-versus-a-copy\n",
      "  amzn_compare['Day of the Week'] = amzn_compare['created_at'].str[:3]\n"
     ]
    }
   ],
   "source": [
    "# Amazon comparison with others\n",
    "amzn_compare = author_dates[author_dates['author_id'].str.contains(pat='AmazonHelp')]\n",
    "amzn_compare['Day of the Week'] = amzn_compare['created_at'].str[:3]\n",
    "amzn_compare_inital = pd.DataFrame({'AmazonHelp':amazon['Day of the Week'].value_counts()})\n",
    "amzn_compare_inital = amzn_compare_inital.reindex(['Mon','Tue','Wed','Thu','Fri','Sat','Sun'])\n",
    "amzn_compare_final = amzn_compare_inital.reset_index(level=0)\n",
    "amzn_compare_final = amzn_compare_final.rename(columns={'index':'Day'})"
   ]
  },
  {
   "cell_type": "code",
   "execution_count": 80,
   "id": "de8e03a0",
   "metadata": {},
   "outputs": [
    {
     "name": "stderr",
     "output_type": "stream",
     "text": [
      "C:\\Users\\laith\\AppData\\Local\\Temp\\ipykernel_10576\\1308583979.py:3: SettingWithCopyWarning: \n",
      "A value is trying to be set on a copy of a slice from a DataFrame.\n",
      "Try using .loc[row_indexer,col_indexer] = value instead\n",
      "\n",
      "See the caveats in the documentation: https://pandas.pydata.org/pandas-docs/stable/user_guide/indexing.html#returning-a-view-versus-a-copy\n",
      "  aapl_compare['Day of the Week'] = aapl_compare['created_at'].str[:3]\n"
     ]
    }
   ],
   "source": [
    "# Apple comparison\n",
    "aapl_compare = author_dates[author_dates['author_id'].str.contains(pat='AppleSupport')]\n",
    "aapl_compare['Day of the Week'] = aapl_compare['created_at'].str[:3]\n",
    "aapl_compare_inital = pd.DataFrame({'AppleSupport':apple['Day of the Week'].value_counts()})\n",
    "aapl_compare_inital = aapl_compare_inital.reindex(['Mon','Tue','Wed','Thu','Fri','Sat','Sun'])\n",
    "apple_compare_final = aapl_compare_inital.reset_index(level=0)\n",
    "apple_compare_final = apple_compare_final.rename(columns={'index':'Day'})"
   ]
  },
  {
   "cell_type": "code",
   "execution_count": 81,
   "id": "3d79e7dd",
   "metadata": {},
   "outputs": [
    {
     "name": "stderr",
     "output_type": "stream",
     "text": [
      "C:\\Users\\laith\\AppData\\Local\\Temp\\ipykernel_10576\\3375637132.py:3: SettingWithCopyWarning: \n",
      "A value is trying to be set on a copy of a slice from a DataFrame.\n",
      "Try using .loc[row_indexer,col_indexer] = value instead\n",
      "\n",
      "See the caveats in the documentation: https://pandas.pydata.org/pandas-docs/stable/user_guide/indexing.html#returning-a-view-versus-a-copy\n",
      "  uber_compare['Day of the Week'] = uber_compare['created_at'].str[:3]\n"
     ]
    }
   ],
   "source": [
    "# Uber_Support comparison\n",
    "uber_compare = author_dates[author_dates['author_id'].str.contains(pat='Uber_Support')]\n",
    "uber_compare['Day of the Week'] = uber_compare['created_at'].str[:3]\n",
    "uber_compare_inital = pd.DataFrame({'Uber_Support':uber['Day of the Week'].value_counts()})\n",
    "uber_compare_inital = uber_compare_inital.reindex(['Mon','Tue','Wed','Thu','Fri','Sat','Sun'])\n",
    "uber_compare_final = uber_compare_inital.reset_index(level=0)\n",
    "uber_compare_final = uber_compare_final.rename(columns={'index':'Day'})"
   ]
  },
  {
   "cell_type": "code",
   "execution_count": 82,
   "id": "5f969fd9",
   "metadata": {},
   "outputs": [
    {
     "name": "stderr",
     "output_type": "stream",
     "text": [
      "C:\\Users\\laith\\AppData\\Local\\Temp\\ipykernel_10576\\560473472.py:3: SettingWithCopyWarning: \n",
      "A value is trying to be set on a copy of a slice from a DataFrame.\n",
      "Try using .loc[row_indexer,col_indexer] = value instead\n",
      "\n",
      "See the caveats in the documentation: https://pandas.pydata.org/pandas-docs/stable/user_guide/indexing.html#returning-a-view-versus-a-copy\n",
      "  spot_compare['Day of the Week'] = spot_compare['created_at'].str[:3]\n"
     ]
    }
   ],
   "source": [
    "# SpotifyCares comparison\n",
    "spot_compare = author_dates[author_dates['author_id'].str.contains(pat='SpotifyCares')]\n",
    "spot_compare['Day of the Week'] = spot_compare['created_at'].str[:3]\n",
    "spot_compare_inital = pd.DataFrame({'SpotifyCares':spotify['Day of the Week'].value_counts()})\n",
    "spot_compare_inital = spot_compare_inital.reindex(['Mon','Tue','Wed','Thu','Fri','Sat','Sun'])\n",
    "spotify_compare_final = spot_compare_inital.reset_index(level=0)\n",
    "spotify_compare_final = spotify_compare_final.rename(columns={'index':'Day'})"
   ]
  },
  {
   "cell_type": "code",
   "execution_count": 83,
   "id": "a37805c6",
   "metadata": {},
   "outputs": [
    {
     "name": "stderr",
     "output_type": "stream",
     "text": [
      "C:\\Users\\laith\\AppData\\Local\\Temp\\ipykernel_10576\\2306338882.py:3: SettingWithCopyWarning: \n",
      "A value is trying to be set on a copy of a slice from a DataFrame.\n",
      "Try using .loc[row_indexer,col_indexer] = value instead\n",
      "\n",
      "See the caveats in the documentation: https://pandas.pydata.org/pandas-docs/stable/user_guide/indexing.html#returning-a-view-versus-a-copy\n",
      "  dal_compare['Day of the Week'] = dal_compare['created_at'].str[:3]\n"
     ]
    }
   ],
   "source": [
    "# Delta comparison\n",
    "dal_compare = author_dates[author_dates['author_id'].str.contains(pat='Delta')]\n",
    "dal_compare['Day of the Week'] = dal_compare['created_at'].str[:3]\n",
    "dal_compare_inital = pd.DataFrame({'Delta':delta['Day of the Week'].value_counts()})\n",
    "dal_compare_inital = dal_compare_inital.reindex(['Mon','Tue','Wed','Thu','Fri','Sat','Sun'])\n",
    "delta_compare_final = dal_compare_inital.reset_index(level=0)\n",
    "delta_compare_final = delta_compare_final.rename(columns={'index':'Day'})"
   ]
  },
  {
   "cell_type": "code",
   "execution_count": 84,
   "id": "30c9151d",
   "metadata": {},
   "outputs": [
    {
     "name": "stderr",
     "output_type": "stream",
     "text": [
      "C:\\Users\\laith\\AppData\\Local\\Temp\\ipykernel_10576\\1087306876.py:3: SettingWithCopyWarning: \n",
      "A value is trying to be set on a copy of a slice from a DataFrame.\n",
      "Try using .loc[row_indexer,col_indexer] = value instead\n",
      "\n",
      "See the caveats in the documentation: https://pandas.pydata.org/pandas-docs/stable/user_guide/indexing.html#returning-a-view-versus-a-copy\n",
      "  tsco_compare['Day of the Week'] = tsco_compare['created_at'].str[:3]\n"
     ]
    }
   ],
   "source": [
    "# Tesco comparison\n",
    "tsco_compare = author_dates[author_dates['author_id'].str.contains(pat='Tesco')]\n",
    "tsco_compare['Day of the Week'] = tsco_compare['created_at'].str[:3]\n",
    "tsco_compare_inital = pd.DataFrame({'Tesco':tesco['Day of the Week'].value_counts()})\n",
    "tsco_compare_inital = tsco_compare_inital.reindex(['Mon','Tue','Wed','Thu','Fri','Sat','Sun'])\n",
    "tesco_compare_final = tsco_compare_inital.reset_index(level=0)\n",
    "tesco_compare_final = tesco_compare_final.rename(columns={'index':'Day'})"
   ]
  },
  {
   "cell_type": "code",
   "execution_count": 90,
   "id": "367db653",
   "metadata": {},
   "outputs": [
    {
     "name": "stderr",
     "output_type": "stream",
     "text": [
      "C:\\Users\\laith\\AppData\\Local\\Temp\\ipykernel_10576\\1751712017.py:3: SettingWithCopyWarning: \n",
      "A value is trying to be set on a copy of a slice from a DataFrame.\n",
      "Try using .loc[row_indexer,col_indexer] = value instead\n",
      "\n",
      "See the caveats in the documentation: https://pandas.pydata.org/pandas-docs/stable/user_guide/indexing.html#returning-a-view-versus-a-copy\n",
      "  aal_compare['Day of the Week'] = aal_compare['created_at'].str[:3]\n"
     ]
    }
   ],
   "source": [
    "# American-Air comparison\n",
    "aal_compare = author_dates[author_dates['author_id'].str.contains(pat='AmericanAir')]\n",
    "aal_compare['Day of the Week'] = aal_compare['created_at'].str[:3]\n",
    "aal_compare_inital = pd.DataFrame({'AmericanAir':american_air['Day of the Week'].value_counts()})\n",
    "aal_compare_inital = aal_compare_inital.reindex(['Mon','Tue','Wed','Thu','Fri','Sat','Sun'])\n",
    "american_air_compare_final = aal_compare_inital.reset_index(level=0)\n",
    "american_air_compare_final = american_air_compare_final.rename(columns={'index':'Day'})"
   ]
  },
  {
   "cell_type": "code",
   "execution_count": 89,
   "id": "06156097",
   "metadata": {},
   "outputs": [
    {
     "name": "stderr",
     "output_type": "stream",
     "text": [
      "C:\\Users\\laith\\AppData\\Local\\Temp\\ipykernel_10576\\1239620654.py:3: SettingWithCopyWarning: \n",
      "A value is trying to be set on a copy of a slice from a DataFrame.\n",
      "Try using .loc[row_indexer,col_indexer] = value instead\n",
      "\n",
      "See the caveats in the documentation: https://pandas.pydata.org/pandas-docs/stable/user_guide/indexing.html#returning-a-view-versus-a-copy\n",
      "  tmus_compare['Day of the Week'] = tmus_compare['created_at'].str[:3]\n"
     ]
    }
   ],
   "source": [
    "# T-Mobile comparison\n",
    "tmus_compare = author_dates[author_dates['author_id'].str.contains(pat='TMobileHelp')]\n",
    "tmus_compare['Day of the Week'] = tmus_compare['created_at'].str[:3]\n",
    "tmus_compare_inital = pd.DataFrame({'TMobileHelp':tmobile['Day of the Week'].value_counts()})\n",
    "tmus_compare_inital = tmus_compare_inital.reindex(['Mon','Tue','Wed','Thu','Fri','Sat','Sun'])\n",
    "tmobile_compare_final = tmus_compare_inital.reset_index(level=0)\n",
    "tmobile_compare_final = tmobile_compare_final.rename(columns={'index':'Day'})"
   ]
  },
  {
   "cell_type": "code",
   "execution_count": 88,
   "id": "8e5f7a32",
   "metadata": {},
   "outputs": [
    {
     "name": "stderr",
     "output_type": "stream",
     "text": [
      "C:\\Users\\laith\\AppData\\Local\\Temp\\ipykernel_10576\\205211016.py:3: SettingWithCopyWarning: \n",
      "A value is trying to be set on a copy of a slice from a DataFrame.\n",
      "Try using .loc[row_indexer,col_indexer] = value instead\n",
      "\n",
      "See the caveats in the documentation: https://pandas.pydata.org/pandas-docs/stable/user_guide/indexing.html#returning-a-view-versus-a-copy\n",
      "  cmcsa_compare['Day of the Week'] = cmcsa_compare['created_at'].str[:3]\n"
     ]
    }
   ],
   "source": [
    "# comcast comparison\n",
    "cmcsa_compare = author_dates[author_dates['author_id'].str.contains(pat='comcastcares')]\n",
    "cmcsa_compare['Day of the Week'] = cmcsa_compare['created_at'].str[:3]\n",
    "cmcsa_compare_inital = pd.DataFrame({'comcastcares':comcast['Day of the Week'].value_counts()})\n",
    "cmcsa_compare_inital = cmcsa_compare_inital.reindex(['Mon','Tue','Wed','Thu','Fri','Sat','Sun'])\n",
    "comcast_compare_final = cmcsa_compare_inital.reset_index(level=0)\n",
    "comcast_compare_final = comcast_compare_final.rename(columns={'index':'Day'})"
   ]
  },
  {
   "cell_type": "code",
   "execution_count": 91,
   "id": "92ffe9eb",
   "metadata": {},
   "outputs": [
    {
     "name": "stderr",
     "output_type": "stream",
     "text": [
      "C:\\Users\\laith\\AppData\\Local\\Temp\\ipykernel_10576\\2901009366.py:3: SettingWithCopyWarning: \n",
      "A value is trying to be set on a copy of a slice from a DataFrame.\n",
      "Try using .loc[row_indexer,col_indexer] = value instead\n",
      "\n",
      "See the caveats in the documentation: https://pandas.pydata.org/pandas-docs/stable/user_guide/indexing.html#returning-a-view-versus-a-copy\n",
      "  bay_compare['Day of the Week'] = bay_compare['created_at'].str[:3]\n"
     ]
    }
   ],
   "source": [
    "# British_Airways comparison\n",
    "bay_compare = author_dates[author_dates['author_id'].str.contains(pat='British_Airways')]\n",
    "bay_compare['Day of the Week'] = bay_compare['created_at'].str[:3]\n",
    "bay_compare_inital = pd.DataFrame({'British_Airways':british_airways['Day of the Week'].value_counts()})\n",
    "bay_compare_inital = bay_compare_inital.reindex(['Mon','Tue','Wed','Thu','Fri','Sat','Sun'])\n",
    "british_airways_compare_final = bay_compare_inital.reset_index(level=0)\n",
    "british_airways_compare_final = british_airways_compare_final.rename(columns={'index':'Day'})"
   ]
  },
  {
   "cell_type": "code",
   "execution_count": 93,
   "id": "6a464ff8",
   "metadata": {},
   "outputs": [
    {
     "data": {
      "image/png": "[encoded data removed]",
      "text/plain": [
       "<Figure size 1440x720 with 1 Axes>"
      ]
     },
     "metadata": {
      "needs_background": "light"
     },
     "output_type": "display_data"
    }
   ],
   "source": [
    "# comparison between uber support and amazonhelp\n",
    "fig = plt.figure(figsize=(20,10))\n",
    "\n",
    "plt.plot(amzn_compare_final['Day'], amzn_compare_final['AmazonHelp'], color='blue', marker='d',linewidth=2, markersize=15, label='AmazonHelp')\n",
    "plt.plot(uber_compare_final['Day'], uber_compare_final['Uber_Support'], color='tab:gray', marker='d',linewidth=2, markersize=15, label='Uber_Support')\n",
    "\n",
    "plt.title('Uber_Support & AmazonHelp', fontsize=20)\n",
    "plt.xlabel('Days', fontsize=14)\n",
    "plt.ylabel('Tweets', fontsize=14)\n",
    "plt.grid(True)\n",
    "plt.legend()\n",
    "plt.show()"
   ]
  },
  {
   "cell_type": "code",
   "execution_count": 99,
   "id": "dd99869f",
   "metadata": {},
   "outputs": [
    {
     "data": {
      "image/png": "[encoded data removed]",
      "text/plain": [
       "<Figure size 1440x720 with 1 Axes>"
      ]
     },
     "metadata": {
      "needs_background": "light"
     },
     "output_type": "display_data"
    }
   ],
   "source": [
    "fig = plt.figure(figsize=(20,10))\n",
    "\n",
    "plt.plot(amzn_compare_final['Day'], amzn_compare_final['AmazonHelp'], color='blue', marker='d',linewidth=2, markersize=15, label='AmazonHelp')\n",
    "plt.plot(delta_compare_final['Day'], delta_compare_final['Delta'], color='tab:orange', marker='d',linewidth=2, markersize=15, label='Delta')\n",
    "\n",
    "plt.title('AmazonHelp & Delta', fontsize=20)\n",
    "plt.xlabel('Days', fontsize=14)\n",
    "plt.ylabel('Tweets', fontsize=14)\n",
    "plt.grid(True)\n",
    "plt.legend()\n",
    "plt.show()"
   ]
  },
  {
   "cell_type": "code",
   "execution_count": 100,
   "id": "4bf2b71b",
   "metadata": {},
   "outputs": [
    {
     "data": {
      "image/png": "[encoded data removed]",
      "text/plain": [
       "<Figure size 1440x720 with 1 Axes>"
      ]
     },
     "metadata": {
      "needs_background": "light"
     },
     "output_type": "display_data"
    }
   ],
   "source": [
    "fig = plt.figure(figsize=(20,10))\n",
    "\n",
    "plt.plot(tesco_compare_final['Day'], tesco_compare_final['Tesco'], color='green', marker='d',linewidth=2, markersize=15, label='Tesco')\n",
    "plt.plot(delta_compare_final['Day'], delta_compare_final['Delta'], color='tab:gray', marker='d',linewidth=2, markersize=15, label='Delta')\n",
    "\n",
    "plt.title('Tesco & Delta', fontsize=20)\n",
    "plt.xlabel('Days', fontsize=14)\n",
    "plt.ylabel('Tweets', fontsize=14)\n",
    "plt.grid(True)\n",
    "plt.legend()\n",
    "plt.show()"
   ]
  },
  {
   "cell_type": "code",
   "execution_count": 101,
   "id": "9c255d54",
   "metadata": {},
   "outputs": [
    {
     "data": {
      "image/png": "[encoded data removed]",
      "text/plain": [
       "<Figure size 1440x720 with 1 Axes>"
      ]
     },
     "metadata": {
      "needs_background": "light"
     },
     "output_type": "display_data"
    }
   ],
   "source": [
    "fig = plt.figure(figsize=(20,10))\n",
    "\n",
    "plt.plot(american_air_compare_final['Day'], american_air_compare_final['AmericanAir'], color='blue', marker='d',linewidth=2, markersize=15, label='AmericanAir')\n",
    "plt.plot(tmobile_compare_final['Day'], tmobile_compare_final['TMobileHelp'], color='tab:orange', marker='d',linewidth=2, markersize=15, label='TMobileHelp')\n",
    "\n",
    "plt.title('AmericanAir & TMobileHelp', fontsize=20)\n",
    "plt.xlabel('Days', fontsize=14)\n",
    "plt.ylabel('Tweets', fontsize=14)\n",
    "plt.grid(True)\n",
    "plt.legend()\n",
    "plt.show()"
   ]
  },
  {
   "cell_type": "code",
   "execution_count": 102,
   "id": "4640c7fc",
   "metadata": {},
   "outputs": [
    {
     "data": {
      "image/png": "[encoded data removed]",
      "text/plain": [
       "<Figure size 1440x720 with 1 Axes>"
      ]
     },
     "metadata": {
      "needs_background": "light"
     },
     "output_type": "display_data"
    }
   ],
   "source": [
    "fig = plt.figure(figsize=(20,10))\n",
    "\n",
    "plt.plot(amzn_compare_final['Day'], amzn_compare_final['AmazonHelp'], color='blue', marker='d',linewidth=2, markersize=15, label='AmazonHelp')\n",
    "plt.plot(uber_compare_final['Day'], uber_compare_final['Uber_Support'], color='tab:gray', marker='d',linewidth=2, markersize=15, label='Uber_Support')\n",
    "plt.plot(spotify_compare_final['Day'], spotify_compare_final['SpotifyCares'], color='red', marker='d',linewidth=2,markersize=15, label='SpotifyCares')\n",
    "\n",
    "plt.title('AmazonHelp & Uber_Support & SpotifyCares', fontsize=20)\n",
    "plt.xlabel('Days', fontsize=14)\n",
    "plt.ylabel('Tweets', fontsize=14)\n",
    "plt.grid(True)\n",
    "plt.legend()\n",
    "plt.show()"
   ]
  },
  {
   "cell_type": "code",
   "execution_count": 106,
   "id": "67104959",
   "metadata": {},
   "outputs": [
    {
     "data": {
      "image/png": "[encoded data removed]",
      "text/plain": [
       "<Figure size 1440x720 with 1 Axes>"
      ]
     },
     "metadata": {
      "needs_background": "light"
     },
     "output_type": "display_data"
    }
   ],
   "source": [
    "fig = plt.figure(figsize=(20,10))\n",
    "\n",
    "plt.plot(amzn_compare_final['Day'], amzn_compare_final['AmazonHelp'], color='violet', marker='d',linewidth=2, markersize=15, label='AmazonHelp')\n",
    "plt.plot(apple_compare_final['Day'], apple_compare_final['AppleSupport'], color='tab:blue', marker='d',linewidth=2, markersize=15, label='AppleSupport')\n",
    "\n",
    "plt.title('AmazonHelp & AppleSupport', fontsize=20)\n",
    "plt.xlabel('Days', fontsize=14)\n",
    "plt.ylabel('Tweets', fontsize=14)\n",
    "plt.grid(True)\n",
    "plt.legend()\n",
    "plt.show()"
   ]
  },
  {
   "cell_type": "code",
   "execution_count": 105,
   "id": "3ae6df5b",
   "metadata": {},
   "outputs": [
    {
     "data": {
      "image/png": "[encoded data removed]",
      "text/plain": [
       "<Figure size 1440x720 with 1 Axes>"
      ]
     },
     "metadata": {
      "needs_background": "light"
     },
     "output_type": "display_data"
    }
   ],
   "source": [
    "fig = plt.figure(figsize=(20,10))\n",
    "\n",
    "plt.plot(amzn_compare_final['Day'], amzn_compare_final['AmazonHelp'], color='blue', marker='d',linewidth=2, markersize=15, label='AmazonHelp')\n",
    "plt.plot(apple_compare_final['Day'], apple_compare_final['AppleSupport'], color='tab:orange', marker='d',linewidth=2, markersize=15, label='AppleSupport')\n",
    "plt.plot(uber_compare_final['Day'], uber_compare_final['Uber_Support'], color='tab:pink', marker='d',linewidth=2, markersize=15, label='Uber_Support')\n",
    "\n",
    "plt.title('AmazonHelp & AppleSupport & Uber_Support', fontsize=20)\n",
    "plt.xlabel('Days', fontsize=14)\n",
    "plt.ylabel('Tweets', fontsize=14)\n",
    "plt.grid(True)\n",
    "plt.legend()\n",
    "plt.show()"
   ]
  },
  {
   "cell_type": "code",
   "execution_count": 109,
   "id": "2d6e9e00",
   "metadata": {},
   "outputs": [
    {
     "data": {
      "image/png": "[encoded data removed]",
      "text/plain": [
       "<Figure size 1440x720 with 1 Axes>"
      ]
     },
     "metadata": {
      "needs_background": "light"
     },
     "output_type": "display_data"
    }
   ],
   "source": [
    "fig = plt.figure(figsize=(20,10))\n",
    "\n",
    "plt.plot(comcast_compare_final['Day'], comcast_compare_final['comcastcares'], color='orange', marker='d',linewidth=2, markersize=15, label='comcastcares')\n",
    "plt.plot(british_airways_compare_final['Day'], british_airways_compare_final['British_Airways'], color='tab:red', marker='d',linewidth=2, markersize=15, label='British_Airways')\n",
    "\n",
    "plt.title('comcastcares & British_Airways', fontsize=20)\n",
    "plt.xlabel('Days', fontsize=14)\n",
    "plt.ylabel('Tweets', fontsize=14)\n",
    "plt.grid(True)\n",
    "plt.legend()\n",
    "plt.show()"
   ]
  },
  {
   "cell_type": "code",
   "execution_count": null,
   "id": "6cc5bb45",
   "metadata": {},
   "outputs": [],
   "source": []
  }
 ],
 "metadata": {
  "kernelspec": {
   "display_name": "Python 3 (ipykernel)",
   "language": "python",
   "name": "python3"
  },
  "language_info": {
   "codemirror_mode": {
    "name": "ipython",
    "version": 3
   },
   "file_extension": ".py",
   "mimetype": "text/x-python",
   "name": "python",
   "nbconvert_exporter": "python",
   "pygments_lexer": "ipython3",
   "version": "3.9.12"
  }
 },
 "nbformat": 4,
 "nbformat_minor": 5
}
